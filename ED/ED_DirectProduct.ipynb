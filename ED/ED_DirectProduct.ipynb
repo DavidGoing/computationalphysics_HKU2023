{
 "cells": [
  {
   "cell_type": "markdown",
   "metadata": {},
   "source": [
    "# ED \n",
    "This notebook shows the ED method involving direct product to construct the Hamiltonian. The result of spin-1/2 chain and spin-1 chain are shown. Both cases are with open boundry conditions."
   ]
  },
  {
   "cell_type": "code",
   "execution_count": 1,
   "metadata": {},
   "outputs": [],
   "source": [
    "import numpy as np\n",
    "from scipy.sparse import csr_matrix, identity, kron\n",
    "from scipy.sparse.linalg import eigsh\n",
    "import matplotlib.pyplot as plt"
   ]
  },
  {
   "cell_type": "code",
   "execution_count": 2,
   "metadata": {},
   "outputs": [],
   "source": [
    "def Parameter(spin):\n",
    "    global J,hx,hz,Lx,Ly,L\n",
    "    \n",
    "    spin = spin\n",
    "    J=[1,1,1] # z,x,y\n",
    "    \n",
    "    hx=0\n",
    "    hz=0\n",
    "    \n",
    "    Lx=8\n",
    "    Ly=1\n",
    "    \n",
    "    L=Lx*Ly\n",
    "    "
   ]
  },
  {
   "cell_type": "code",
   "execution_count": 3,
   "metadata": {},
   "outputs": [],
   "source": [
    "def GetSpinOp(spin):\n",
    "    '''\n",
    "    Given a spin quantum number\n",
    "    return various spin operators and one site H\n",
    "    '''\n",
    "    Jp = lambda j,m: np.sqrt(j*(j+1)-m*(m+1))\n",
    "    Jm = lambda j,m: np.sqrt(j*(j+1)-m*(m-1))\n",
    "    \n",
    "    Mdim = int(2*spin+1)\n",
    "    \n",
    "    Id = np.eye(Mdim)\n",
    "    Sz = np.zeros((Mdim,Mdim))\n",
    "    Sp = np.zeros((Mdim,Mdim))\n",
    "    Sm = np.zeros((Mdim,Mdim))\n",
    "    \n",
    "    for ii in range(Mdim):\n",
    "        sm = spin-ii\n",
    "        Sz[ii,ii]= sm\n",
    "        if ii > 0:\n",
    "            Sp[ii-1,ii]=Jp(spin,sm)\n",
    "        if ii < 2*spin:\n",
    "            Sm[ii+1,ii]=Jm(spin,sm)\n",
    "    Sx = (Sp+Sm)/2\n",
    "    Sy = (Sp-Sm)/(2j)\n",
    "    \n",
    "    H1 = np.zeros((Mdim,Mdim))\n",
    "    \n",
    "    return Sx,Sy,Sz,Id"
   ]
  },
  {
   "cell_type": "code",
   "execution_count": 4,
   "metadata": {},
   "outputs": [],
   "source": [
    "def directprod(S,i,L,Id):\n",
    "    SP=S\n",
    "    for si in range(L):\n",
    "        if si<i:\n",
    "            SP=kron(SP,Id)\n",
    "        elif si>i:\n",
    "            SP=kron(Id,SP)\n",
    "    return SP"
   ]
  },
  {
   "cell_type": "code",
   "execution_count": 5,
   "metadata": {},
   "outputs": [],
   "source": [
    "def directprod_2site(S1,i1,S2,i2,L,Id):\n",
    "    SP=1\n",
    "    for si in range(L):\n",
    "        if si==i1:\n",
    "            SP=kron(S1,SP)\n",
    "        elif si==i2:\n",
    "            SP=kron(S2,SP)\n",
    "        else:\n",
    "            SP=kron(Id,SP)\n",
    "    return SP"
   ]
  },
  {
   "cell_type": "code",
   "execution_count": 6,
   "metadata": {},
   "outputs": [],
   "source": [
    "def Run_ED(spin):\n",
    "    global H\n",
    "    Parameter(spin)\n",
    "    Sx,Sy,Sz,Id = GetSpinOp(spin)\n",
    "    J1x = J[1]\n",
    "    J1y = J[2]\n",
    "    J1z = J[0]\n",
    "    for i in range(L):\n",
    "        if i==0:\n",
    "            H=J1x*directprod_2site(Sx,i,Sx,i+1,L,Id)\\\n",
    "            +J1y*directprod_2site(Sy,i,Sy,i+1,L,Id)\\\n",
    "            +J1z*directprod_2site(Sz,i,Sz,i+1,L,Id)\n",
    "            Mz=directprod(Sz,i,L,Id)\n",
    "        elif i>0 and i<L-1:\n",
    "            H=H+J1x*directprod_2site(Sx,i,Sx,i+1,L,Id)\\\n",
    "            +J1y*directprod_2site(Sy,i,Sy,i+1,L,Id)\\\n",
    "            +J1z*directprod_2site(Sz,i,Sz,i+1,L,Id)\n",
    "            Mz=Mz+directprod(Sz,i,L,Id)\n",
    "        else:\n",
    "            Mz=Mz+directprod(Sz,i,L,Id)\n",
    "        #magnetic field\n",
    "        H = H+hx*directprod(Sx,i,L,Id)\\\n",
    "        +hz*directprod(Sz,i,L,Id)\n",
    "    \n",
    "    #Mdim = int(2*spin+1)\n",
    "    #Num = Mdim**L\n",
    "    val, vec = eigsh(H, k=50, which='SA', return_eigenvectors=True) # k is the number of eigenstates we want to keep\n",
    "    E = val\n",
    "    \n",
    "    return E/L,vec"
   ]
  },
  {
   "cell_type": "markdown",
   "metadata": {},
   "source": [
    "## Spin-1/2 chain"
   ]
  },
  {
   "cell_type": "code",
   "execution_count": 7,
   "metadata": {
    "scrolled": true
   },
   "outputs": [
    {
     "name": "stdout",
     "output_type": "stream",
     "text": [
      "Ground state E: -0.4218665748359912\n"
     ]
    }
   ],
   "source": [
    "energy,vec = Run_ED(1/2)\n",
    "energy_level =np.sort(energy)\n",
    "print('Ground state E:',energy_level[0])"
   ]
  },
  {
   "cell_type": "code",
   "execution_count": 8,
   "metadata": {},
   "outputs": [
    {
     "data": {
      "text/plain": [
       "Text(0.5, 1.0, 'Energy Level of Spin Chain')"
      ]
     },
     "execution_count": 8,
     "metadata": {},
     "output_type": "execute_result"
    },
    {
     "data": {
      "image/png": "[encoded data removed]",
      "text/plain": [
       "<Figure size 432x288 with 1 Axes>"
      ]
     },
     "metadata": {
      "needs_background": "light"
     },
     "output_type": "display_data"
    }
   ],
   "source": [
    "plt.scatter(np.arange(0,len(energy_level)),energy_level,marker='_')\n",
    "plt.xlabel('Energy Level N')\n",
    "plt.ylabel('Energy')\n",
    "plt.title('Energy Level of Spin Chain')"
   ]
  },
  {
   "cell_type": "markdown",
   "metadata": {},
   "source": [
    "## Spin-1 chain"
   ]
  },
  {
   "cell_type": "code",
   "execution_count": 9,
   "metadata": {},
   "outputs": [
    {
     "name": "stdout",
     "output_type": "stream",
     "text": [
      "Ground state E: -1.2655796527949057\n"
     ]
    }
   ],
   "source": [
    "energy,vec = Run_ED(1)\n",
    "energy_level =np.sort(energy)\n",
    "print('Ground state E:',energy_level[0])\n"
   ]
  },
  {
   "cell_type": "code",
   "execution_count": 10,
   "metadata": {},
   "outputs": [
    {
     "data": {
      "text/plain": [
       "Text(0.5, 1.0, 'Energy Level of Spin Chain')"
      ]
     },
     "execution_count": 10,
     "metadata": {},
     "output_type": "execute_result"
    },
    {
     "data": {
      "image/png": "[encoded data removed]",
      "text/plain": [
       "<Figure size 432x288 with 1 Axes>"
      ]
     },
     "metadata": {
      "needs_background": "light"
     },
     "output_type": "display_data"
    }
   ],
   "source": [
    "plt.scatter(np.arange(0,len(energy_level)),energy_level,marker='_')\n",
    "plt.xlabel('Energy Level N')\n",
    "plt.ylabel('Energy')\n",
    "plt.title('Energy Level of Spin Chain')"
   ]
  },
  {
   "cell_type": "code",
   "execution_count": null,
   "metadata": {},
   "outputs": [],
   "source": []
  }
 ],
 "metadata": {
  "kernelspec": {
   "display_name": "Python 3",
   "language": "python",
   "name": "python3"
  },
  "language_info": {
   "codemirror_mode": {
    "name": "ipython",
    "version": 3
   },
   "file_extension": ".py",
   "mimetype": "text/x-python",
   "name": "python",
   "nbconvert_exporter": "python",
   "pygments_lexer": "ipython3",
   "version": "3.8.5"
  }
 },
 "nbformat": 4,
 "nbformat_minor": 4
}
