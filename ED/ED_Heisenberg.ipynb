{
  "nbformat": 4,
  "nbformat_minor": 0,
  "metadata": {
    "colab": {
      "name": "ED_Heisenberg.ipynb",
      "provenance": []
    },
    "kernelspec": {
      "display_name": "Python 3",
      "language": "python",
      "name": "python3"
    },
    "language_info": {
      "codemirror_mode": {
        "name": "ipython",
        "version": 3
      },
      "file_extension": ".py",
      "mimetype": "text/x-python",
      "name": "python",
      "nbconvert_exporter": "python",
      "pygments_lexer": "ipython3",
      "version": "3.8.5"
    }
  },
  "cells": [
    {
      "cell_type": "markdown",
      "source": [
        "# Exact diagonalization study of Heisenberg chain\n",
        "\n",
        "This notebook contains breif notes and sample codes for solving Heisenberg chain using exact diagonalization method. It is for pedagogical purpose. The following text and codes are prepared by [Mr. Hongyu Lu（卢虹宇）](https://quantummc.xyz/members/hongyu-lu/) and [ZYM](https://quantummc.xyz/members/zi-yang-meng/)."
      ],
      "metadata": {
        "id": "rzhhZ3yBgK-N"
      }
    },
    {
      "cell_type": "markdown",
      "metadata": {
        "id": "P3lb1QbqgAHg"
      },
      "source": [
        "##  Model"
      ]
    },
    {
      "cell_type": "markdown",
      "metadata": {
        "id": "VFsGt3_2gAHl"
      },
      "source": [
        "<font  face=Times color=darkblue size=3> The model hamiltonian is: $$H=J\\sum_{<i,j>}\\vec{S_i}\\cdot \\vec{S_j}=J\\sum_{<i,j>}(\\frac{1}{2}(S_i^+S_j^-+S_i^-S_j^+)+S_i^zS_j^z)$$ with the spin raising/lowering operators.<br><br> We consider $S=1/2$ 1-dimensional spin chain here."
      ]
    },
    {
      "cell_type": "markdown",
      "metadata": {
        "id": "gx8PTxAZgAHl"
      },
      "source": [
        "## ED"
      ]
    },
    {
      "cell_type": "markdown",
      "metadata": {
        "id": "kleeKo2VgAHm"
      },
      "source": [
        "<font  face=Times color=darkblue size=3>The basic idea is to construct the matrix of Hamiltonian and diagonalize it to get the eigenvalues and eigenvectors. <br><br> We choose the $S^z$ basis and use the bit representation. For example, for a N-spin chain, there are $2^N$ states and can be represented as: $$|0>=|\\downarrow,\\downarrow,...,\\downarrow> (=00...0)$$ $$|1>=|\\uparrow,\\downarrow,...,\\downarrow> (=00...1)$$ <br><br> To construct the matrix, we enumerate the states and $H_{ij}=<i|H|j>$. Please kind in mind that  that\n",
        "* the pairs of spin raising/lowering opertors $S_i^+S_j^-$ can flip the spins thus providing the off-diagonal elements,\n",
        "* while the $S_i^zS_j^z$ operators provide the diagonal elements.\n",
        "\n"
      ]
    },
    {
      "cell_type": "code",
      "metadata": {
        "id": "D0axIXncJqD9"
      },
      "source": [
        "import numpy as np\n",
        "import matplotlib.pyplot as plt"
      ],
      "execution_count": 1,
      "outputs": []
    },
    {
      "cell_type": "markdown",
      "metadata": {
        "id": "gayHnkKrGT4A"
      },
      "source": [
        "#### About String concatenation"
      ]
    },
    {
      "cell_type": "code",
      "metadata": {
        "id": "iV89oBO2GT4B"
      },
      "source": [
        "# To show the process\n",
        "a='0001'\n",
        "b='1111'\n",
        "c='22222'"
      ],
      "execution_count": 2,
      "outputs": []
    },
    {
      "cell_type": "code",
      "metadata": {
        "colab": {
          "base_uri": "https://localhost:8080/"
        },
        "id": "SuBu2nWpGT4D",
        "outputId": "981da964-e071-41dc-8571-ceb6ebe2e4ee"
      },
      "source": [
        "print('a:',a)\n",
        "print('b:',b)\n",
        "print('c:',c)\n",
        "print('bin(a):', bin(10))"
      ],
      "execution_count": 3,
      "outputs": [
        {
          "output_type": "stream",
          "name": "stdout",
          "text": [
            "a: 0001\n",
            "b: 1111\n",
            "c: 22222\n",
            "bin(a): 0b1010\n"
          ]
        }
      ]
    },
    {
      "cell_type": "code",
      "metadata": {
        "colab": {
          "base_uri": "https://localhost:8080/"
        },
        "id": "PGGtSxmhGT4F",
        "outputId": "2634aadf-9e1d-4002-aed0-741ad683b62e"
      },
      "source": [
        "print('concatenation:a+b+c:',a+b+c)"
      ],
      "execution_count": 4,
      "outputs": [
        {
          "output_type": "stream",
          "name": "stdout",
          "text": [
            "concatenation:a+b+c: 0001111122222\n"
          ]
        }
      ]
    },
    {
      "cell_type": "markdown",
      "metadata": {
        "id": "v5n-SpQ0GT4G"
      },
      "source": [
        "#### Code"
      ]
    },
    {
      "cell_type": "code",
      "metadata": {
        "colab": {
          "base_uri": "https://localhost:8080/",
          "height": 35
        },
        "id": "5XS-9_Y3gAHp",
        "outputId": "c07557af-f17f-484d-ac73-c27c09df42fd"
      },
      "source": [
        "# set parameters\n",
        "N=7\n",
        "dimension=2**N\n",
        "#spin chain with all spin-down\n",
        "z='0'*N\n",
        "# initialize hamiltonian\n",
        "H=np.zeros((dimension,dimension))\n",
        "z"
      ],
      "execution_count": 47,
      "outputs": [
        {
          "output_type": "execute_result",
          "data": {
            "text/plain": [
              "'0000000'"
            ],
            "application/vnd.google.colaboratory.intrinsic+json": {
              "type": "string"
            }
          },
          "metadata": {},
          "execution_count": 47
        }
      ]
    },
    {
      "cell_type": "code",
      "metadata": {
        "id": "LQc-NWfdgAHq",
        "outputId": "992960d6-1e2d-4dcd-b720-e2aa3e4879e8",
        "colab": {
          "base_uri": "https://localhost:8080/"
        }
      },
      "source": [
        "# Matrix Construction\n",
        "for a in range(dimension):\n",
        "    state_chain=bin(a)[2:] # the first two should be omitted for this 'bin' function\n",
        "    l=len(state_chain)\n",
        "    state_chain=z[0:N-l]+state_chain # make the length equal to N\n",
        "    print(state_chain)\n",
        "  # for PBC, we set i in range(N)\n",
        "  # for OBC, we set i in range(N-1)\n",
        "    for i in range(N):\n",
        "        j=np.mod(i+1,N)\n",
        " #       print(state_chain)\n",
        "        if state_chain[i]==state_chain[j]: # i=j only diagonal elements\n",
        "            H[a,a]+=0.25\n",
        "#            print('a:',a)\n",
        "        else:                              # else, the raising/lowering operators also have contributions\n",
        "            H[a,a]-=0.25\n",
        "            # then exchange i,j\n",
        "            element_i=state_chain[i]\n",
        "            element_j=state_chain[j]\n",
        "            #flip\n",
        "            if j==0:\n",
        "#here we are doing the concatenation of string (you can try other methods)\n",
        "#                    print(state_chain)\n",
        "                state_chain1=element_i+state_chain[1:N-1]+element_j\n",
        "            else:\n",
        "                state_chain1=state_chain[0:i]+element_j+element_i+state_chain[j+1:]\n",
        "#            print(state_chain)\n",
        "            b=int(state_chain1,2)\n",
        "#            print('a:',a)\n",
        "#            print('b:',b)\n",
        "            H[a,b]+=0.5"
      ],
      "execution_count": 48,
      "outputs": [
        {
          "output_type": "stream",
          "name": "stdout",
          "text": [
            "0000000\n",
            "0000001\n",
            "0000010\n",
            "0000011\n",
            "0000100\n",
            "0000101\n",
            "0000110\n",
            "0000111\n",
            "0001000\n",
            "0001001\n",
            "0001010\n",
            "0001011\n",
            "0001100\n",
            "0001101\n",
            "0001110\n",
            "0001111\n",
            "0010000\n",
            "0010001\n",
            "0010010\n",
            "0010011\n",
            "0010100\n",
            "0010101\n",
            "0010110\n",
            "0010111\n",
            "0011000\n",
            "0011001\n",
            "0011010\n",
            "0011011\n",
            "0011100\n",
            "0011101\n",
            "0011110\n",
            "0011111\n",
            "0100000\n",
            "0100001\n",
            "0100010\n",
            "0100011\n",
            "0100100\n",
            "0100101\n",
            "0100110\n",
            "0100111\n",
            "0101000\n",
            "0101001\n",
            "0101010\n",
            "0101011\n",
            "0101100\n",
            "0101101\n",
            "0101110\n",
            "0101111\n",
            "0110000\n",
            "0110001\n",
            "0110010\n",
            "0110011\n",
            "0110100\n",
            "0110101\n",
            "0110110\n",
            "0110111\n",
            "0111000\n",
            "0111001\n",
            "0111010\n",
            "0111011\n",
            "0111100\n",
            "0111101\n",
            "0111110\n",
            "0111111\n",
            "1000000\n",
            "1000001\n",
            "1000010\n",
            "1000011\n",
            "1000100\n",
            "1000101\n",
            "1000110\n",
            "1000111\n",
            "1001000\n",
            "1001001\n",
            "1001010\n",
            "1001011\n",
            "1001100\n",
            "1001101\n",
            "1001110\n",
            "1001111\n",
            "1010000\n",
            "1010001\n",
            "1010010\n",
            "1010011\n",
            "1010100\n",
            "1010101\n",
            "1010110\n",
            "1010111\n",
            "1011000\n",
            "1011001\n",
            "1011010\n",
            "1011011\n",
            "1011100\n",
            "1011101\n",
            "1011110\n",
            "1011111\n",
            "1100000\n",
            "1100001\n",
            "1100010\n",
            "1100011\n",
            "1100100\n",
            "1100101\n",
            "1100110\n",
            "1100111\n",
            "1101000\n",
            "1101001\n",
            "1101010\n",
            "1101011\n",
            "1101100\n",
            "1101101\n",
            "1101110\n",
            "1101111\n",
            "1110000\n",
            "1110001\n",
            "1110010\n",
            "1110011\n",
            "1110100\n",
            "1110101\n",
            "1110110\n",
            "1110111\n",
            "1111000\n",
            "1111001\n",
            "1111010\n",
            "1111011\n",
            "1111100\n",
            "1111101\n",
            "1111110\n",
            "1111111\n"
          ]
        }
      ]
    },
    {
      "cell_type": "code",
      "metadata": {
        "colab": {
          "base_uri": "https://localhost:8080/"
        },
        "id": "qPJhfmZQgAHr",
        "outputId": "4315e136-2034-4e3a-eb90-6b042812b4b1"
      },
      "source": [
        "H"
      ],
      "execution_count": 49,
      "outputs": [
        {
          "output_type": "execute_result",
          "data": {
            "text/plain": [
              "array([[1.75, 0.  , 0.  , ..., 0.  , 0.  , 0.  ],\n",
              "       [0.  , 0.75, 0.5 , ..., 0.  , 0.  , 0.  ],\n",
              "       [0.  , 0.5 , 0.75, ..., 0.  , 0.  , 0.  ],\n",
              "       ...,\n",
              "       [0.  , 0.  , 0.  , ..., 0.75, 0.5 , 0.  ],\n",
              "       [0.  , 0.  , 0.  , ..., 0.5 , 0.75, 0.  ],\n",
              "       [0.  , 0.  , 0.  , ..., 0.  , 0.  , 1.75]])"
            ]
          },
          "metadata": {},
          "execution_count": 49
        }
      ]
    },
    {
      "cell_type": "code",
      "metadata": {
        "id": "wrS8msDigAHt"
      },
      "source": [
        "eig_value=np.real(np.linalg.eig(H)[0])# eigen_values\n",
        "eig_vec=np.real(np.linalg.eig(H)[1])  # eigenstates"
      ],
      "execution_count": 50,
      "outputs": []
    },
    {
      "cell_type": "code",
      "metadata": {
        "colab": {
          "base_uri": "https://localhost:8080/"
        },
        "id": "MpFRTik3gAHu",
        "outputId": "597144a9-bd9b-424d-982a-4a89715ff27a"
      },
      "source": [
        "# ground state energy\n",
        "#min(eig_value)\n",
        "# ground state wave function\n",
        "idx_sorted1 = np.argsort(eig_value)\n",
        "eig_value=eig_value[idx_sorted1]\n",
        "eig_vec=eig_vec[:,idx_sorted1]\n",
        "eig_value[0]/4, eig_vec[:,0]"
      ],
      "execution_count": 51,
      "outputs": [
        {
          "output_type": "execute_result",
          "data": {
            "text/plain": [
              "(-0.7137948142116743,\n",
              " array([ 0.00000000e+00, -1.81777468e-16,  9.99925254e-17,  3.27830771e-16,\n",
              "        -1.58612128e-16, -7.89331179e-16,  2.15507386e-16, -3.68584286e-02,\n",
              "         8.41734310e-18,  4.11097450e-16, -2.28148154e-16,  1.28744297e-01,\n",
              "        -2.44736443e-16, -7.20529409e-02,  5.39709946e-03,  1.62850500e-07,\n",
              "         1.79382444e-16,  3.33614155e-17, -1.36641485e-16, -1.13966424e-01,\n",
              "         2.41961890e-16,  6.55888512e-02,  3.31379189e-02, -5.87105246e-07,\n",
              "        -3.01440234e-16,  6.05047452e-02, -1.04951612e-01,  5.58162740e-07,\n",
              "         3.44564933e-02, -9.76703494e-08, -3.62376454e-08,  1.32433094e-27,\n",
              "        -1.62535373e-16, -3.43940940e-16,  7.28551843e-16,  1.10741110e-02,\n",
              "        -1.04953971e-15,  1.33757040e-01, -1.38694777e-01,  3.58956765e-07,\n",
              "         5.09976662e-16, -3.06610708e-01,  4.18736366e-01, -4.40382015e-07,\n",
              "        -1.43492058e-01, -4.40382015e-07,  3.58956765e-07, -4.68905510e-28,\n",
              "        -1.02814398e-16,  1.29819458e-01, -2.02618551e-01, -1.99205976e-07,\n",
              "         1.18760802e-01,  1.23392299e-06, -8.06568529e-07,  1.12729689e-28,\n",
              "        -2.07316816e-02, -5.49147390e-07,  6.30572640e-07, -1.57386252e-29,\n",
              "        -1.46723231e-07, -3.23585990e-29,  6.95239338e-29, -1.75338762e-17,\n",
              "         1.37861677e-16,  3.49948457e-16, -7.78922834e-16,  1.10064444e-02,\n",
              "         6.60897640e-16, -9.04345214e-02,  1.37018187e-01, -3.62376454e-08,\n",
              "        -8.58720128e-16,  1.89414607e-01, -4.47926151e-01, -9.76703494e-08,\n",
              "         1.75691407e-01,  5.58162740e-07, -5.87105246e-07,  6.95196183e-29,\n",
              "         5.37444068e-17, -1.41946630e-01,  3.88398668e-01,  4.27354457e-07,\n",
              "        -2.51944066e-01, -1.78307038e-06,  1.97905881e-06, -3.23559219e-29,\n",
              "         3.07220548e-02,  8.95223528e-07, -1.78307038e-06, -1.57410594e-29,\n",
              "         4.27354457e-07,  1.12736405e-28, -4.68933963e-28, -5.43341810e-17,\n",
              "        -3.81959308e-17,  3.19601000e-02, -8.84971488e-02, -1.46723231e-07,\n",
              "         2.96689934e-02,  6.30572640e-07, -8.06568529e-07,  2.07773258e-30,\n",
              "         5.20980824e-02, -5.49147390e-07,  1.23392299e-06,  1.73747238e-29,\n",
              "        -1.99205976e-07, -7.03635873e-29,  2.07003988e-28, -4.12569220e-18,\n",
              "        -2.52300270e-02,  1.01535626e-07, -1.82960876e-07, -6.50164431e-30,\n",
              "        -1.82960876e-07,  2.95044690e-29, -7.03621335e-29,  1.37709255e-16,\n",
              "         1.01535626e-07, -6.50152470e-30,  1.73738610e-29, -8.82902698e-17,\n",
              "         2.07822331e-30, -4.50717012e-17,  1.02634518e-16,  0.00000000e+00]))"
            ]
          },
          "metadata": {},
          "execution_count": 51
        }
      ]
    },
    {
      "cell_type": "code",
      "metadata": {
        "id": "P2FxTrsvgAHv"
      },
      "source": [
        "energy_level=np.sort(eig_value)"
      ],
      "execution_count": 52,
      "outputs": []
    },
    {
      "cell_type": "code",
      "metadata": {
        "colab": {
          "base_uri": "https://localhost:8080/",
          "height": 489
        },
        "id": "F2-yw_qPgAHv",
        "outputId": "18d7dad2-adf3-4a22-c135-31f960151bde"
      },
      "source": [
        "plt.scatter(np.arange(0,len(energy_level)),energy_level,marker='_')\n",
        "plt.xlabel('Energy Level N')\n",
        "plt.ylabel('Energy')\n",
        "#plt.ylim(-5,-4)\n",
        "plt.xlim(0,10)\n",
        "plt.title('Energy Level of Spin Chain')"
      ],
      "execution_count": 54,
      "outputs": [
        {
          "output_type": "execute_result",
          "data": {
            "text/plain": [
              "Text(0.5, 1.0, 'Energy Level of Spin Chain')"
            ]
          },
          "metadata": {},
          "execution_count": 54
        },
        {
          "output_type": "display_data",
          "data": {
            "text/plain": [
              "<Figure size 640x480 with 1 Axes>"
            ],
            "image/png": "[encoded data removed]"
          },
          "metadata": {}
        }
      ]
    },
    {
      "cell_type": "markdown",
      "metadata": {
        "id": "ulUiYokTgAHw"
      },
      "source": [
        "<font  face=Times color=darkblue size=3> Then we find the ground state by searching for the lowest energy."
      ]
    },
    {
      "cell_type": "markdown",
      "source": [
        "### Renyi Entropy"
      ],
      "metadata": {
        "id": "mUiZfdeFIJbA"
      }
    },
    {
      "cell_type": "markdown",
      "source": [
        "$S^{(n)}_A = \\frac{1}{1-n} \\ln (Tr (\\rho_A^n))$.\n",
        "\n",
        "It can be analytically reduced to the Von Neumann Entanglement entropy when $n\\to 1$,\n",
        "\n",
        "$S^{vN}_A=-Tr(\\rho_A \\ln \\rho_A)$"
      ],
      "metadata": {
        "id": "OOFBYrPKIPo1"
      }
    },
    {
      "cell_type": "code",
      "source": [
        "def cal_renyi(psi,si,L,order):\n",
        "  size1 = 2**(si)\n",
        "  size2 = 2**(L-si)\n",
        "  psi = psi.reshape((size1,size2))\n",
        "  #reduced density matrix\n",
        "  rho_r = psi@psi.T\n",
        "  # print(rho_r)\n",
        "  # print(np.linalg.eig(rho_r)[0])\n",
        "  prob = np.linalg.eig(rho_r)[0]/np.trace(rho_r)\n",
        "  renyi = (1/(1-order))*np.log(np.sum(prob**order))\n",
        "  return renyi\n"
      ],
      "metadata": {
        "id": "9qai_kjaIIsB"
      },
      "execution_count": 55,
      "outputs": []
    },
    {
      "cell_type": "markdown",
      "metadata": {
        "id": "_rWbazHuP1Pz"
      },
      "source": [
        "#### Another way to flip spins"
      ]
    },
    {
      "cell_type": "code",
      "metadata": {
        "id": "0Wqv4iq0P1Pz",
        "outputId": "fb75e893-2bad-45b6-b03e-2cddcba37bd2",
        "colab": {
          "base_uri": "https://localhost:8080/",
          "height": 52
        }
      },
      "source": [
        "# for a string '00001', if we flip the index 3 and 4\n",
        "str_='00001'\n",
        "# instead of concatenation, we can convert it to list first\n",
        "site_3=str_[3]\n",
        "site_4=str_[4]\n",
        "list_=list(str_)\n",
        "print(list_)\n",
        "list_[3]=site_4\n",
        "list_[4]=site_3\n",
        "#convert it back to string\n",
        "str_=''.join(list_)\n",
        "str_"
      ],
      "execution_count": 56,
      "outputs": [
        {
          "output_type": "stream",
          "name": "stdout",
          "text": [
            "['0', '0', '0', '0', '1']\n"
          ]
        },
        {
          "output_type": "execute_result",
          "data": {
            "text/plain": [
              "'00010'"
            ],
            "application/vnd.google.colaboratory.intrinsic+json": {
              "type": "string"
            }
          },
          "metadata": {},
          "execution_count": 56
        }
      ]
    },
    {
      "cell_type": "markdown",
      "metadata": {
        "id": "3asCjGxfP1P0"
      },
      "source": [
        "therefore, to construct the Hamiltonian:"
      ]
    },
    {
      "cell_type": "code",
      "metadata": {
        "id": "A7afvt1TP1P1"
      },
      "source": [
        "# Matrix Construction\n",
        "H=np.zeros((dimension,dimension))\n",
        "for a in range(dimension):\n",
        "    state_chain=bin(a)[2:] # the first two should be omitted for this 'bin' function\n",
        "    l=len(state_chain)\n",
        "    state_chain=z[0:N-l]+state_chain # make the length equal to N\n",
        "# for PBC, we set i in range(N)\n",
        "# for OBC, we set i in range(N-1)\n",
        "    for i in range(N):\n",
        "        j=np.mod(i+1,N)\n",
        "        if state_chain[i]==state_chain[j]: # i=j only diagonal elements\n",
        "            H[a,a]+=0.25\n",
        "        else:                              # else, the raising/lowering operators also have contributions\n",
        "            H[a,a]-=0.25\n",
        "            # then exchange i,j\n",
        "            element_i=state_chain[i]\n",
        "            element_j=state_chain[j]\n",
        "            #flip\n",
        "            chain1=list(state_chain)\n",
        "            chain1[i]=element_j\n",
        "            chain1[j]=element_i\n",
        "            b=int(''.join(chain1),2)\n",
        "            H[a,b]+=0.5"
      ],
      "execution_count": 58,
      "outputs": []
    },
    {
      "cell_type": "code",
      "metadata": {
        "id": "8NGhpc-lSe8m",
        "outputId": "4ca8bfc8-83c1-4017-f62a-951871a2e169",
        "colab": {
          "base_uri": "https://localhost:8080/"
        }
      },
      "source": [
        "eig_value=np.real(np.linalg.eig(H)[0])# eigen_values\n",
        "eig_vec=np.real(np.linalg.eig(H)[1])  # eigenstates\n",
        "# ground state wave function\n",
        "idx_sorted1 = np.argsort(eig_value)\n",
        "eig_value=eig_value[idx_sorted1]\n",
        "eig_vec=eig_vec[:,idx_sorted1]\n",
        "eig_value[0], eig_vec[:,0]"
      ],
      "execution_count": 59,
      "outputs": [
        {
          "output_type": "execute_result",
          "data": {
            "text/plain": [
              "(-2.8551792568466974,\n",
              " array([ 0.00000000e+00, -1.81777468e-16,  9.99925254e-17,  3.27830771e-16,\n",
              "        -1.58612128e-16, -7.89331179e-16,  2.15507386e-16, -3.68584286e-02,\n",
              "         8.41734310e-18,  4.11097450e-16, -2.28148154e-16,  1.28744297e-01,\n",
              "        -2.44736443e-16, -7.20529409e-02,  5.39709946e-03,  1.62850500e-07,\n",
              "         1.79382444e-16,  3.33614155e-17, -1.36641485e-16, -1.13966424e-01,\n",
              "         2.41961890e-16,  6.55888512e-02,  3.31379189e-02, -5.87105246e-07,\n",
              "        -3.01440234e-16,  6.05047452e-02, -1.04951612e-01,  5.58162740e-07,\n",
              "         3.44564933e-02, -9.76703494e-08, -3.62376454e-08,  1.32433094e-27,\n",
              "        -1.62535373e-16, -3.43940940e-16,  7.28551843e-16,  1.10741110e-02,\n",
              "        -1.04953971e-15,  1.33757040e-01, -1.38694777e-01,  3.58956765e-07,\n",
              "         5.09976662e-16, -3.06610708e-01,  4.18736366e-01, -4.40382015e-07,\n",
              "        -1.43492058e-01, -4.40382015e-07,  3.58956765e-07, -4.68905510e-28,\n",
              "        -1.02814398e-16,  1.29819458e-01, -2.02618551e-01, -1.99205976e-07,\n",
              "         1.18760802e-01,  1.23392299e-06, -8.06568529e-07,  1.12729689e-28,\n",
              "        -2.07316816e-02, -5.49147390e-07,  6.30572640e-07, -1.57386252e-29,\n",
              "        -1.46723231e-07, -3.23585990e-29,  6.95239338e-29, -1.75338762e-17,\n",
              "         1.37861677e-16,  3.49948457e-16, -7.78922834e-16,  1.10064444e-02,\n",
              "         6.60897640e-16, -9.04345214e-02,  1.37018187e-01, -3.62376454e-08,\n",
              "        -8.58720128e-16,  1.89414607e-01, -4.47926151e-01, -9.76703494e-08,\n",
              "         1.75691407e-01,  5.58162740e-07, -5.87105246e-07,  6.95196183e-29,\n",
              "         5.37444068e-17, -1.41946630e-01,  3.88398668e-01,  4.27354457e-07,\n",
              "        -2.51944066e-01, -1.78307038e-06,  1.97905881e-06, -3.23559219e-29,\n",
              "         3.07220548e-02,  8.95223528e-07, -1.78307038e-06, -1.57410594e-29,\n",
              "         4.27354457e-07,  1.12736405e-28, -4.68933963e-28, -5.43341810e-17,\n",
              "        -3.81959308e-17,  3.19601000e-02, -8.84971488e-02, -1.46723231e-07,\n",
              "         2.96689934e-02,  6.30572640e-07, -8.06568529e-07,  2.07773258e-30,\n",
              "         5.20980824e-02, -5.49147390e-07,  1.23392299e-06,  1.73747238e-29,\n",
              "        -1.99205976e-07, -7.03635873e-29,  2.07003988e-28, -4.12569220e-18,\n",
              "        -2.52300270e-02,  1.01535626e-07, -1.82960876e-07, -6.50164431e-30,\n",
              "        -1.82960876e-07,  2.95044690e-29, -7.03621335e-29,  1.37709255e-16,\n",
              "         1.01535626e-07, -6.50152470e-30,  1.73738610e-29, -8.82902698e-17,\n",
              "         2.07822331e-30, -4.50717012e-17,  1.02634518e-16,  0.00000000e+00]))"
            ]
          },
          "metadata": {},
          "execution_count": 59
        }
      ]
    },
    {
      "cell_type": "code",
      "source": [
        "energy_level=np.sort(eig_value)\n",
        "plt.scatter(np.arange(0,len(energy_level)),energy_level,marker='_')\n",
        "plt.xlabel('Energy Level N')\n",
        "plt.ylabel('Energy')\n",
        "plt.title('Energy Level of Spin Chain')"
      ],
      "metadata": {
        "colab": {
          "base_uri": "https://localhost:8080/",
          "height": 489
        },
        "id": "6O_8BIO38w3c",
        "outputId": "288f9a10-1f59-4af0-a40e-41e049828abb"
      },
      "execution_count": 60,
      "outputs": [
        {
          "output_type": "execute_result",
          "data": {
            "text/plain": [
              "Text(0.5, 1.0, 'Energy Level of Spin Chain')"
            ]
          },
          "metadata": {},
          "execution_count": 60
        },
        {
          "output_type": "display_data",
          "data": {
            "text/plain": [
              "<Figure size 640x480 with 1 Axes>"
            ],
            "image/png": "[encoded data removed]"
          },
          "metadata": {}
        }
      ]
    },
    {
      "cell_type": "markdown",
      "metadata": {
        "id": "8DfmUnMjgAHw"
      },
      "source": [
        "### measurement"
      ]
    },
    {
      "cell_type": "markdown",
      "metadata": {
        "id": "tntsBTxdgAHx"
      },
      "source": [
        "<font  face=Times color=darkblue size=3> To measure observables, we take $S^z$ as an example. The expectation value of the n:th eigenstate is $$<n|S^z|n>=[U^{\\dagger}S^zU]_{nn}$$ where U is the matrix whose columns are the eigenvectors. <br> To construct the matrix of the operator, the method is quite similar to that of hamiltonian, but there is only diagonal elements: $S^z_{aa}=+\\frac{1}{2}n-\\frac{1}{2}(N-n)$.\n",
        "\n",
        "<font  face=Times color=darkblue size=3> We measure both the  $\\langle S_z\\rangle$ and $\\langle S_{total}^2\\rangle$, for the latter, we only have it for 2-site OBC problem."
      ]
    },
    {
      "cell_type": "code",
      "metadata": {
        "id": "5Qcw1UbggAHx"
      },
      "source": [
        "matrix_U=np.zeros((dimension,dimension)) #mat_U\n",
        "matrix_Udag=np.zeros((dimension,dimension))\n",
        "for i in range(dimension):\n",
        "    matrix_U[:,i]=eig_vec[:,i].reshape(dimension)\n",
        "    matrix_Udag[i,:]=np.conj(eig_vec[:,i].reshape(dimension))"
      ],
      "execution_count": null,
      "outputs": []
    },
    {
      "cell_type": "code",
      "metadata": {
        "id": "lxF-wsMjgAHy"
      },
      "source": [
        "mat_Sz=np.zeros((dimension,dimension))\n",
        "mat_S2=np.zeros((dimension,dimension))"
      ],
      "execution_count": null,
      "outputs": []
    },
    {
      "cell_type": "code",
      "metadata": {
        "id": "jwW8e6BygAHy"
      },
      "source": [
        "##construct Sz matrix\n",
        "for a in range(dimension):\n",
        "    state_chain=bin(a)[2:] # the first two should be omitted for this 'bin' function\n",
        "    l=len(state_chain)\n",
        "    state_chain=z[0:N-l]+state_chain #make the length equal to N\n",
        "    up_number=state_chain.count('1')\n",
        "    down_number=N-up_number\n",
        "    mat_Sz[a,a]=0.5*up_number-0.5*down_number\n",
        "\n",
        "mat_S2=3*N/8*np.identity(dimension)+H              # this measurement is written for N=2 only"
      ],
      "execution_count": null,
      "outputs": []
    },
    {
      "cell_type": "code",
      "metadata": {
        "colab": {
          "base_uri": "https://localhost:8080/"
        },
        "id": "yh58JWQZgAHz",
        "outputId": "cb63cf25-1d83-4c88-c34f-f4424a609722"
      },
      "source": [
        "mat_Sz"
      ],
      "execution_count": null,
      "outputs": [
        {
          "output_type": "execute_result",
          "data": {
            "text/plain": [
              "array([[-1.,  0.,  0.,  0.],\n",
              "       [ 0.,  0.,  0.,  0.],\n",
              "       [ 0.,  0.,  0.,  0.],\n",
              "       [ 0.,  0.,  0.,  1.]])"
            ]
          },
          "metadata": {},
          "execution_count": 184
        }
      ]
    },
    {
      "cell_type": "code",
      "source": [
        "mat_S2"
      ],
      "metadata": {
        "id": "ZzdHzmr0E76z",
        "outputId": "9d8d0825-d358-44f5-9be9-37c62d816164",
        "colab": {
          "base_uri": "https://localhost:8080/"
        }
      },
      "execution_count": null,
      "outputs": [
        {
          "output_type": "execute_result",
          "data": {
            "text/plain": [
              "array([[1. , 0. , 0. , 0. ],\n",
              "       [0. , 0.5, 0.5, 0. ],\n",
              "       [0. , 0.5, 0.5, 0. ],\n",
              "       [0. , 0. , 0. , 1. ]])"
            ]
          },
          "metadata": {},
          "execution_count": 185
        }
      ]
    },
    {
      "cell_type": "code",
      "source": [
        "mz_list=[]\n",
        "s2_list=[]\n",
        "for i in range(dimension):\n",
        "    mz_list.append(np.dot(np.dot(matrix_Udag,mat_Sz),matrix_U)[i,i])#measure\n",
        "    s2_list.append(np.dot(np.dot(matrix_Udag,mat_S2),matrix_U)[i,i])#measure s^2"
      ],
      "metadata": {
        "id": "kYUkOzr3FIMj"
      },
      "execution_count": null,
      "outputs": []
    },
    {
      "cell_type": "code",
      "source": [
        "mz_list"
      ],
      "metadata": {
        "id": "SpEaVZ2fFlv2",
        "outputId": "9c38ddf6-604c-4bc8-baa2-202edc1996ee",
        "colab": {
          "base_uri": "https://localhost:8080/"
        }
      },
      "execution_count": null,
      "outputs": [
        {
          "output_type": "execute_result",
          "data": {
            "text/plain": [
              "[0.0, -1.0, 1.0, 0.0]"
            ]
          },
          "metadata": {},
          "execution_count": 187
        }
      ]
    },
    {
      "cell_type": "code",
      "source": [
        "s2_list"
      ],
      "metadata": {
        "id": "HrQCtooAFqNm",
        "outputId": "84f48d60-4f1d-4657-8f23-d40bdb0ecacd",
        "colab": {
          "base_uri": "https://localhost:8080/"
        }
      },
      "execution_count": null,
      "outputs": [
        {
          "output_type": "execute_result",
          "data": {
            "text/plain": [
              "[2.465190328815662e-32, 1.0, 1.0, 0.9999999999999998]"
            ]
          },
          "metadata": {},
          "execution_count": 188
        }
      ]
    },
    {
      "cell_type": "markdown",
      "metadata": {
        "id": "WBXzy_C7P1P4"
      },
      "source": [
        "<font  face=Times color=darkblue size=3> The ground state is non-degenerate, while the 1st excited states are degenerate (for 2 site problem)."
      ]
    },
    {
      "cell_type": "markdown",
      "metadata": {
        "id": "Z6BoUCk8gAH0"
      },
      "source": [
        "<font  face=Times color=darkblue size=3> Now, we see that for the antiferromagnet, the $S^z$ is generally equal to $0$ at ground state if N is even. And we can also see the $S_z$ at the triplet.\n",
        "    <br><br> You can check the value of $S_z$ if N is odd."
      ]
    },
    {
      "cell_type": "code",
      "metadata": {
        "id": "IQQvEThpgAH0"
      },
      "source": [],
      "execution_count": null,
      "outputs": []
    }
  ]
}