{
  "nbformat": 4,
  "nbformat_minor": 0,
  "metadata": {
    "colab": {
      "name": "ED_Heisenberg.ipynb",
      "provenance": []
    },
    "kernelspec": {
      "display_name": "Python 3",
      "language": "python",
      "name": "python3"
    },
    "language_info": {
      "codemirror_mode": {
        "name": "ipython",
        "version": 3
      },
      "file_extension": ".py",
      "mimetype": "text/x-python",
      "name": "python",
      "nbconvert_exporter": "python",
      "pygments_lexer": "ipython3",
      "version": "3.8.5"
    }
  },
  "cells": [
    {
      "cell_type": "markdown",
      "source": [
        "# Exact diagonalization study of Heisenberg chain\n",
        "\n",
        "This notebook contains breif notes and sample codes for solving Heisenberg chain using exact diagonalization method. It is for pedagogical purpose. The following text and codes are prepared by [Mr. Hongyu Lu（卢虹宇）](https://quantummc.xyz/members/hongyu-lu/) and [ZYM](https://quantummc.xyz/members/zi-yang-meng/)."
      ],
      "metadata": {
        "id": "rzhhZ3yBgK-N"
      }
    },
    {
      "cell_type": "markdown",
      "metadata": {
        "id": "P3lb1QbqgAHg"
      },
      "source": [
        "##  Model"
      ]
    },
    {
      "cell_type": "markdown",
      "metadata": {
        "id": "VFsGt3_2gAHl"
      },
      "source": [
        "<font  face=Times color=darkblue size=3> The model hamiltonian is: $$H=J\\sum_{<i,j>}\\vec{S_i}\\cdot \\vec{S_j}=J\\sum_{<i,j>}(\\frac{1}{2}(S_i^+S_j^-+S_i^-S_j^+)+S_i^zS_j^z)$$ with the spin raising/lowering operators.<br><br> We consider $S=1/2$ 1-dimensional spin chain here."
      ]
    },
    {
      "cell_type": "markdown",
      "metadata": {
        "id": "gx8PTxAZgAHl"
      },
      "source": [
        "## ED"
      ]
    },
    {
      "cell_type": "markdown",
      "metadata": {
        "id": "kleeKo2VgAHm"
      },
      "source": [
        "<font  face=Times color=darkblue size=3>The basic idea is to construct the matrix of Hamiltonian and diagonalize it to get the eigenvalues and eigenvectors. <br><br> We choose the $S^z$ basis and use the bit representation. For example, for a N-spin chain, there are $2^N$ states and can be represented as: $$|0>=|\\downarrow,\\downarrow,...,\\downarrow> (=00...0)$$ $$|1>=|\\uparrow,\\downarrow,...,\\downarrow> (=00...1)$$ <br><br> To construct the matrix, we enumerate the states and $H_{ij}=<i|H|j>$. Please kind in mind that  that\n",
        "* the pairs of spin raising/lowering opertors $S_i^+S_j^-$ can flip the spins thus providing the off-diagonal elements,\n",
        "* while the $S_i^zS_j^z$ operators provide the diagonal elements.\n",
        "\n"
      ]
    },
    {
      "cell_type": "code",
      "metadata": {
        "id": "D0axIXncJqD9"
      },
      "source": [
        "import numpy as np\n",
        "import matplotlib.pyplot as plt"
      ],
      "execution_count": null,
      "outputs": []
    },
    {
      "cell_type": "markdown",
      "metadata": {
        "id": "gayHnkKrGT4A"
      },
      "source": [
        "#### About String concatenation"
      ]
    },
    {
      "cell_type": "code",
      "metadata": {
        "id": "iV89oBO2GT4B"
      },
      "source": [
        "# To show the process\n",
        "a='0001'\n",
        "b='1111'\n",
        "c='22222'"
      ],
      "execution_count": null,
      "outputs": []
    },
    {
      "cell_type": "code",
      "metadata": {
        "colab": {
          "base_uri": "https://localhost:8080/"
        },
        "id": "SuBu2nWpGT4D",
        "outputId": "273efdab-1b6a-4340-84db-c1117587d34e"
      },
      "source": [
        "print('a:',a)\n",
        "print('b:',b)\n",
        "print('c:',c)\n",
        "print('bin(a):', bin(10))"
      ],
      "execution_count": null,
      "outputs": [
        {
          "output_type": "stream",
          "name": "stdout",
          "text": [
            "a: 0001\n",
            "b: 1111\n",
            "c: 22222\n",
            "bin(a): 0b1010\n"
          ]
        }
      ]
    },
    {
      "cell_type": "code",
      "metadata": {
        "colab": {
          "base_uri": "https://localhost:8080/"
        },
        "id": "PGGtSxmhGT4F",
        "outputId": "4c2969bf-c3ca-4638-8fa6-0e33214b2713"
      },
      "source": [
        "print('concatenation:a+b+c:',a+b+c)"
      ],
      "execution_count": null,
      "outputs": [
        {
          "output_type": "stream",
          "name": "stdout",
          "text": [
            "concatenation:a+b+c: 0001111122222\n"
          ]
        }
      ]
    },
    {
      "cell_type": "markdown",
      "metadata": {
        "id": "v5n-SpQ0GT4G"
      },
      "source": [
        "#### Code"
      ]
    },
    {
      "cell_type": "code",
      "metadata": {
        "colab": {
          "base_uri": "https://localhost:8080/",
          "height": 35
        },
        "id": "5XS-9_Y3gAHp",
        "outputId": "662c09e1-0c18-4508-e9c2-97217fe16426"
      },
      "source": [
        "# set parameters\n",
        "N=4\n",
        "dimension=2**N\n",
        "#spin chain with all spin-down\n",
        "z='0'*N\n",
        "# initialize hamiltonian\n",
        "H=np.zeros((dimension,dimension))\n",
        "z"
      ],
      "execution_count": null,
      "outputs": [
        {
          "output_type": "execute_result",
          "data": {
            "text/plain": [
              "'0000'"
            ],
            "application/vnd.google.colaboratory.intrinsic+json": {
              "type": "string"
            }
          },
          "metadata": {},
          "execution_count": 5
        }
      ]
    },
    {
      "cell_type": "code",
      "metadata": {
        "id": "LQc-NWfdgAHq",
        "outputId": "c0ce69a6-4ef4-43cf-f104-44cd8fdd7e1b",
        "colab": {
          "base_uri": "https://localhost:8080/"
        }
      },
      "source": [
        "# Matrix Construction\n",
        "for a in range(dimension):\n",
        "    state_chain=bin(a)[2:] # the first two should be omitted for this 'bin' function\n",
        "    l=len(state_chain)\n",
        "    state_chain=z[0:N-l]+state_chain # make the length equal to N\n",
        "    print(state_chain)\n",
        "  # for PBC, we set i in range(N)\n",
        "  # for OBC, we set i in range(N-1)\n",
        "    for i in range(N):\n",
        "        j=np.mod(i+1,N)\n",
        " #       print(state_chain)\n",
        "        if state_chain[i]==state_chain[j]: # i=j only diagonal elements\n",
        "            H[a,a]+=0.25\n",
        "#            print('a:',a)\n",
        "        else:                              # else, the raising/lowering operators also have contributions\n",
        "            H[a,a]-=0.25\n",
        "            # then exchange i,j\n",
        "            element_i=state_chain[i]\n",
        "            element_j=state_chain[j]\n",
        "            #flip\n",
        "            if j==0:\n",
        "#here we are doing the concatenation of string (you can try other methods)\n",
        "#                    print(state_chain)\n",
        "                state_chain1=element_i+state_chain[1:N-1]+element_j\n",
        "            else:\n",
        "                state_chain1=state_chain[0:i]+element_j+element_i+state_chain[j+1:]\n",
        "#            print(state_chain)\n",
        "            b=int(state_chain1,2)\n",
        "#            print('a:',a)\n",
        "#            print('b:',b)\n",
        "            H[a,b]+=0.5"
      ],
      "execution_count": null,
      "outputs": [
        {
          "output_type": "stream",
          "name": "stdout",
          "text": [
            "0000\n",
            "0001\n",
            "0010\n",
            "0011\n",
            "0100\n",
            "0101\n",
            "0110\n",
            "0111\n",
            "1000\n",
            "1001\n",
            "1010\n",
            "1011\n",
            "1100\n",
            "1101\n",
            "1110\n",
            "1111\n"
          ]
        }
      ]
    },
    {
      "cell_type": "code",
      "metadata": {
        "colab": {
          "base_uri": "https://localhost:8080/"
        },
        "id": "qPJhfmZQgAHr",
        "outputId": "0daaf8df-4b71-40b0-d072-a41e7e33f2d4"
      },
      "source": [
        "H"
      ],
      "execution_count": null,
      "outputs": [
        {
          "output_type": "execute_result",
          "data": {
            "text/plain": [
              "array([[ 1. ,  0. ,  0. ,  0. ,  0. ,  0. ,  0. ,  0. ,  0. ,  0. ,  0. ,\n",
              "         0. ,  0. ,  0. ,  0. ,  0. ],\n",
              "       [ 0. ,  0. ,  0.5,  0. ,  0. ,  0. ,  0. ,  0. ,  0.5,  0. ,  0. ,\n",
              "         0. ,  0. ,  0. ,  0. ,  0. ],\n",
              "       [ 0. ,  0.5,  0. ,  0. ,  0.5,  0. ,  0. ,  0. ,  0. ,  0. ,  0. ,\n",
              "         0. ,  0. ,  0. ,  0. ,  0. ],\n",
              "       [ 0. ,  0. ,  0. ,  0. ,  0. ,  0.5,  0. ,  0. ,  0. ,  0. ,  0.5,\n",
              "         0. ,  0. ,  0. ,  0. ,  0. ],\n",
              "       [ 0. ,  0. ,  0.5,  0. ,  0. ,  0. ,  0. ,  0. ,  0.5,  0. ,  0. ,\n",
              "         0. ,  0. ,  0. ,  0. ,  0. ],\n",
              "       [ 0. ,  0. ,  0. ,  0.5,  0. , -1. ,  0.5,  0. ,  0. ,  0.5,  0. ,\n",
              "         0. ,  0.5,  0. ,  0. ,  0. ],\n",
              "       [ 0. ,  0. ,  0. ,  0. ,  0. ,  0.5,  0. ,  0. ,  0. ,  0. ,  0.5,\n",
              "         0. ,  0. ,  0. ,  0. ,  0. ],\n",
              "       [ 0. ,  0. ,  0. ,  0. ,  0. ,  0. ,  0. ,  0. ,  0. ,  0. ,  0. ,\n",
              "         0.5,  0. ,  0. ,  0.5,  0. ],\n",
              "       [ 0. ,  0.5,  0. ,  0. ,  0.5,  0. ,  0. ,  0. ,  0. ,  0. ,  0. ,\n",
              "         0. ,  0. ,  0. ,  0. ,  0. ],\n",
              "       [ 0. ,  0. ,  0. ,  0. ,  0. ,  0.5,  0. ,  0. ,  0. ,  0. ,  0.5,\n",
              "         0. ,  0. ,  0. ,  0. ,  0. ],\n",
              "       [ 0. ,  0. ,  0. ,  0.5,  0. ,  0. ,  0.5,  0. ,  0. ,  0.5, -1. ,\n",
              "         0. ,  0.5,  0. ,  0. ,  0. ],\n",
              "       [ 0. ,  0. ,  0. ,  0. ,  0. ,  0. ,  0. ,  0.5,  0. ,  0. ,  0. ,\n",
              "         0. ,  0. ,  0.5,  0. ,  0. ],\n",
              "       [ 0. ,  0. ,  0. ,  0. ,  0. ,  0.5,  0. ,  0. ,  0. ,  0. ,  0.5,\n",
              "         0. ,  0. ,  0. ,  0. ,  0. ],\n",
              "       [ 0. ,  0. ,  0. ,  0. ,  0. ,  0. ,  0. ,  0. ,  0. ,  0. ,  0. ,\n",
              "         0.5,  0. ,  0. ,  0.5,  0. ],\n",
              "       [ 0. ,  0. ,  0. ,  0. ,  0. ,  0. ,  0. ,  0.5,  0. ,  0. ,  0. ,\n",
              "         0. ,  0. ,  0.5,  0. ,  0. ],\n",
              "       [ 0. ,  0. ,  0. ,  0. ,  0. ,  0. ,  0. ,  0. ,  0. ,  0. ,  0. ,\n",
              "         0. ,  0. ,  0. ,  0. ,  1. ]])"
            ]
          },
          "metadata": {},
          "execution_count": 7
        }
      ]
    },
    {
      "cell_type": "code",
      "metadata": {
        "id": "wrS8msDigAHt"
      },
      "source": [
        "eig_value=np.real(np.linalg.eig(H)[0])# eigen_values\n",
        "eig_vec=np.real(np.linalg.eig(H)[1])  # eigenstates"
      ],
      "execution_count": null,
      "outputs": []
    },
    {
      "cell_type": "code",
      "metadata": {
        "colab": {
          "base_uri": "https://localhost:8080/"
        },
        "id": "MpFRTik3gAHu",
        "outputId": "815ea54f-9d71-44b0-d270-16c802e4d95a"
      },
      "source": [
        "# ground state energy\n",
        "#min(eig_value)\n",
        "# ground state wave function\n",
        "idx_sorted1 = np.argsort(eig_value)\n",
        "eig_value=eig_value[idx_sorted1]\n",
        "eig_vec=eig_vec[:,idx_sorted1]\n",
        "eig_value[0]/4, eig_vec[:,0]"
      ],
      "execution_count": null,
      "outputs": [
        {
          "output_type": "execute_result",
          "data": {
            "text/plain": [
              "(-0.49999999999999967,\n",
              " array([ 0.00000000e+00,  2.77354685e-17,  2.57913478e-17,  2.88675135e-01,\n",
              "        -8.55761944e-17, -5.77350269e-01,  2.88675135e-01,  5.93181067e-17,\n",
              "         4.45654388e-17,  2.88675135e-01, -5.77350269e-01,  4.86828725e-33,\n",
              "         2.88675135e-01, -5.93181067e-17,  4.86828725e-33,  0.00000000e+00]))"
            ]
          },
          "metadata": {},
          "execution_count": 9
        }
      ]
    },
    {
      "cell_type": "code",
      "metadata": {
        "id": "P2FxTrsvgAHv"
      },
      "source": [
        "energy_level=np.sort(eig_value)"
      ],
      "execution_count": null,
      "outputs": []
    },
    {
      "cell_type": "code",
      "metadata": {
        "colab": {
          "base_uri": "https://localhost:8080/",
          "height": 489
        },
        "id": "F2-yw_qPgAHv",
        "outputId": "d13a6b5e-4408-4753-b345-78ab4af7cdc1"
      },
      "source": [
        "plt.scatter(np.arange(0,len(energy_level)),energy_level,marker='_')\n",
        "plt.xlabel('Energy Level N')\n",
        "plt.ylabel('Energy')\n",
        "plt.title('Energy Level of Spin Chain')"
      ],
      "execution_count": null,
      "outputs": [
        {
          "output_type": "execute_result",
          "data": {
            "text/plain": [
              "Text(0.5, 1.0, 'Energy Level of Spin Chain')"
            ]
          },
          "metadata": {},
          "execution_count": 11
        },
        {
          "output_type": "display_data",
          "data": {
            "text/plain": [
              "<Figure size 640x480 with 1 Axes>"
            ],
            "image/png": "[encoded data removed]"
          },
          "metadata": {}
        }
      ]
    },
    {
      "cell_type": "markdown",
      "metadata": {
        "id": "ulUiYokTgAHw"
      },
      "source": [
        "<font  face=Times color=darkblue size=3> Then we find the ground state by searching for the lowest energy."
      ]
    },
    {
      "cell_type": "markdown",
      "source": [
        "### Renyi Entropy"
      ],
      "metadata": {
        "id": "mUiZfdeFIJbA"
      }
    },
    {
      "cell_type": "markdown",
      "source": [
        "$S^{(n)}_A = \\frac{1}{1-n} \\ln (Tr (\\rho_A^n))$.\n",
        "\n",
        "It can be analytically reduced to the Von Neumann Entanglement entropy when $n\\to 1$,\n",
        "\n",
        "$S^{vN}_A=-Tr(\\rho_A \\ln \\rho_A)$"
      ],
      "metadata": {
        "id": "OOFBYrPKIPo1"
      }
    },
    {
      "cell_type": "code",
      "source": [
        "def cal_renyi(psi,si,L,order):\n",
        "  size1 = 2**(si)\n",
        "  size2 = 2**(L-si)\n",
        "  psi = psi.reshape((size1,size2))\n",
        "  #reduced density matrix\n",
        "  rho_r = psi@psi.T\n",
        "  # print(rho_r)\n",
        "  # print(np.linalg.eig(rho_r)[0])\n",
        "  prob = np.linalg.eig(rho_r)[0]/np.trace(rho_r)\n",
        "  renyi = (1/(1-order))*np.log(np.sum(prob**order))\n",
        "  return renyi\n"
      ],
      "metadata": {
        "id": "9qai_kjaIIsB"
      },
      "execution_count": null,
      "outputs": []
    },
    {
      "cell_type": "markdown",
      "metadata": {
        "id": "_rWbazHuP1Pz"
      },
      "source": [
        "#### Another way to flip spins"
      ]
    },
    {
      "cell_type": "code",
      "metadata": {
        "id": "0Wqv4iq0P1Pz",
        "outputId": "bcb9a886-45d3-449f-b62a-968a5140df3a",
        "colab": {
          "base_uri": "https://localhost:8080/",
          "height": 52
        }
      },
      "source": [
        "# for a string '00001', if we flip the index 3 and 4\n",
        "str_='00001'\n",
        "# instead of concatenation, we can convert it to list first\n",
        "site_3=str_[3]\n",
        "site_4=str_[4]\n",
        "list_=list(str_)\n",
        "print(list_)\n",
        "list_[3]=site_4\n",
        "list_[4]=site_3\n",
        "#convert it back to string\n",
        "str_=''.join(list_)\n",
        "str_"
      ],
      "execution_count": null,
      "outputs": [
        {
          "output_type": "stream",
          "name": "stdout",
          "text": [
            "['0', '0', '0', '0', '1']\n"
          ]
        },
        {
          "output_type": "execute_result",
          "data": {
            "text/plain": [
              "'00010'"
            ],
            "application/vnd.google.colaboratory.intrinsic+json": {
              "type": "string"
            }
          },
          "metadata": {},
          "execution_count": 15
        }
      ]
    },
    {
      "cell_type": "markdown",
      "metadata": {
        "id": "3asCjGxfP1P0"
      },
      "source": [
        "therefore, to construct the Hamiltonian:"
      ]
    },
    {
      "cell_type": "code",
      "metadata": {
        "id": "A7afvt1TP1P1"
      },
      "source": [
        "# Matrix Construction\n",
        "H=np.zeros((dimension,dimension))\n",
        "for a in range(dimension):\n",
        "    state_chain=bin(a)[2:] # the first two should be omitted for this 'bin' function\n",
        "    l=len(state_chain)\n",
        "    state_chain=z[0:N-l]+state_chain # make the length equal to N\n",
        "# for PBC, we set i in range(N)\n",
        "# for OBC, we set i in range(N-1)\n",
        "    for i in range(N):\n",
        "        j=np.mod(i+1,N)\n",
        "        if state_chain[i]==state_chain[j]: # i=j only diagonal elements\n",
        "            H[a,a]+=0.25\n",
        "        else:                              # else, the raising/lowering operators also have contributions\n",
        "            H[a,a]-=0.25\n",
        "            # then exchange i,j\n",
        "            element_i=state_chain[i]\n",
        "            element_j=state_chain[j]\n",
        "            #flip\n",
        "            chain1=list(state_chain)\n",
        "            chain1[i]=element_j\n",
        "            chain1[j]=element_i\n",
        "            b=int(''.join(chain1),2)\n",
        "            H[a,b]+=0.5"
      ],
      "execution_count": null,
      "outputs": []
    },
    {
      "cell_type": "code",
      "metadata": {
        "id": "8NGhpc-lSe8m",
        "outputId": "fd22dfcb-ed16-4ca3-b9da-4561dfa6a1ef",
        "colab": {
          "base_uri": "https://localhost:8080/"
        }
      },
      "source": [
        "eig_value=np.real(np.linalg.eig(H)[0])# eigen_values\n",
        "eig_vec=np.real(np.linalg.eig(H)[1])  # eigenstates\n",
        "# ground state wave function\n",
        "idx_sorted1 = np.argsort(eig_value)\n",
        "eig_value=eig_value[idx_sorted1]\n",
        "eig_vec=eig_vec[:,idx_sorted1]\n",
        "eig_value[0], eig_vec[:,0]"
      ],
      "execution_count": null,
      "outputs": [
        {
          "output_type": "execute_result",
          "data": {
            "text/plain": [
              "(-1.9999999999999987,\n",
              " array([ 0.00000000e+00,  2.77354685e-17,  2.57913478e-17,  2.88675135e-01,\n",
              "        -8.55761944e-17, -5.77350269e-01,  2.88675135e-01,  5.93181067e-17,\n",
              "         4.45654388e-17,  2.88675135e-01, -5.77350269e-01,  4.86828725e-33,\n",
              "         2.88675135e-01, -5.93181067e-17,  4.86828725e-33,  0.00000000e+00]))"
            ]
          },
          "metadata": {},
          "execution_count": 17
        }
      ]
    },
    {
      "cell_type": "code",
      "source": [
        "energy_level=np.sort(eig_value)\n",
        "plt.scatter(np.arange(0,len(energy_level)),energy_level,marker='_')\n",
        "plt.xlabel('Energy Level N')\n",
        "plt.ylabel('Energy')\n",
        "plt.title('Energy Level of Spin Chain')"
      ],
      "metadata": {
        "colab": {
          "base_uri": "https://localhost:8080/",
          "height": 489
        },
        "id": "6O_8BIO38w3c",
        "outputId": "08aa4816-2d4f-4762-909a-7092e90de61b"
      },
      "execution_count": null,
      "outputs": [
        {
          "output_type": "execute_result",
          "data": {
            "text/plain": [
              "Text(0.5, 1.0, 'Energy Level of Spin Chain')"
            ]
          },
          "metadata": {},
          "execution_count": 18
        },
        {
          "output_type": "display_data",
          "data": {
            "text/plain": [
              "<Figure size 640x480 with 1 Axes>"
            ],
            "image/png": "[encoded data removed]"
          },
          "metadata": {}
        }
      ]
    },
    {
      "cell_type": "markdown",
      "metadata": {
        "id": "8DfmUnMjgAHw"
      },
      "source": [
        "### measurement"
      ]
    },
    {
      "cell_type": "markdown",
      "metadata": {
        "id": "tntsBTxdgAHx"
      },
      "source": [
        "<font  face=Times color=darkblue size=3> To measure observables, we take $S^z$ as an example. The expectation value of the n:th eigenstate is $$<n|S^z|n>=[U^{\\dagger}S^zU]$$ where U is the matrix whose columns are the eigenvectors. <br> To construct the matrix of the operator, the method is quite similar to that of hamiltonian, but there is only diagonal elements: $S^z_{aa}=+\\frac{1}{2}n-\\frac{1}{2}(N-n)$.\n",
        "\n",
        "<font  face=Times color=darkblue size=3> We measure both the  $\\langle S_z\\rangle$ and $\\langle S_{total}^2\\rangle$, for the latter, we only have it for 2-site OBC problem."
      ]
    },
    {
      "cell_type": "code",
      "metadata": {
        "id": "5Qcw1UbggAHx"
      },
      "source": [
        "matrix_U=np.zeros((dimension,dimension)) #mat_U\n",
        "matrix_Udag=np.zeros((dimension,dimension))\n",
        "for i in range(dimension):\n",
        "    matrix_U[:,i]=eig_vec[:,i].reshape(dimension)\n",
        "    matrix_Udag[i,:]=np.conj(eig_vec[:,i].reshape(dimension))"
      ],
      "execution_count": null,
      "outputs": []
    },
    {
      "cell_type": "code",
      "metadata": {
        "id": "lxF-wsMjgAHy"
      },
      "source": [
        "mat_Sz=np.zeros((dimension,dimension))\n",
        "mat_S2=np.zeros((dimension,dimension))"
      ],
      "execution_count": null,
      "outputs": []
    },
    {
      "cell_type": "code",
      "metadata": {
        "id": "jwW8e6BygAHy"
      },
      "source": [
        "##construct Sz matrix\n",
        "for a in range(dimension):\n",
        "    state_chain=bin(a)[2:] # the first two should be omitted for this 'bin' function\n",
        "    l=len(state_chain)\n",
        "    state_chain=z[0:N-l]+state_chain #make the length equal to N\n",
        "    up_number=state_chain.count('1')\n",
        "    down_number=N-up_number\n",
        "    mat_Sz[a,a]=0.5*up_number-0.5*down_number\n",
        "\n",
        "mat_S2=3*N/8*np.identity(dimension)+H              # this measurement is written for N=2 only"
      ],
      "execution_count": null,
      "outputs": []
    },
    {
      "cell_type": "code",
      "metadata": {
        "colab": {
          "base_uri": "https://localhost:8080/"
        },
        "id": "yh58JWQZgAHz",
        "outputId": "cb63cf25-1d83-4c88-c34f-f4424a609722"
      },
      "source": [
        "mat_Sz"
      ],
      "execution_count": null,
      "outputs": [
        {
          "output_type": "execute_result",
          "data": {
            "text/plain": [
              "array([[-1.,  0.,  0.,  0.],\n",
              "       [ 0.,  0.,  0.,  0.],\n",
              "       [ 0.,  0.,  0.,  0.],\n",
              "       [ 0.,  0.,  0.,  1.]])"
            ]
          },
          "metadata": {},
          "execution_count": 184
        }
      ]
    },
    {
      "cell_type": "code",
      "source": [
        "mat_S2"
      ],
      "metadata": {
        "id": "ZzdHzmr0E76z",
        "outputId": "9d8d0825-d358-44f5-9be9-37c62d816164",
        "colab": {
          "base_uri": "https://localhost:8080/"
        }
      },
      "execution_count": null,
      "outputs": [
        {
          "output_type": "execute_result",
          "data": {
            "text/plain": [
              "array([[1. , 0. , 0. , 0. ],\n",
              "       [0. , 0.5, 0.5, 0. ],\n",
              "       [0. , 0.5, 0.5, 0. ],\n",
              "       [0. , 0. , 0. , 1. ]])"
            ]
          },
          "metadata": {},
          "execution_count": 185
        }
      ]
    },
    {
      "cell_type": "code",
      "source": [
        "mz_list=[]\n",
        "s2_list=[]\n",
        "for i in range(dimension):\n",
        "    mz_list.append(np.dot(np.dot(matrix_Udag,mat_Sz),matrix_U)[i,i])#measure\n",
        "    s2_list.append(np.dot(np.dot(matrix_Udag,mat_S2),matrix_U)[i,i])#measure s^2"
      ],
      "metadata": {
        "id": "kYUkOzr3FIMj"
      },
      "execution_count": null,
      "outputs": []
    },
    {
      "cell_type": "code",
      "source": [
        "mz_list"
      ],
      "metadata": {
        "id": "SpEaVZ2fFlv2",
        "outputId": "9c38ddf6-604c-4bc8-baa2-202edc1996ee",
        "colab": {
          "base_uri": "https://localhost:8080/"
        }
      },
      "execution_count": null,
      "outputs": [
        {
          "output_type": "execute_result",
          "data": {
            "text/plain": [
              "[0.0, -1.0, 1.0, 0.0]"
            ]
          },
          "metadata": {},
          "execution_count": 187
        }
      ]
    },
    {
      "cell_type": "code",
      "source": [
        "s2_list"
      ],
      "metadata": {
        "id": "HrQCtooAFqNm",
        "outputId": "84f48d60-4f1d-4657-8f23-d40bdb0ecacd",
        "colab": {
          "base_uri": "https://localhost:8080/"
        }
      },
      "execution_count": null,
      "outputs": [
        {
          "output_type": "execute_result",
          "data": {
            "text/plain": [
              "[2.465190328815662e-32, 1.0, 1.0, 0.9999999999999998]"
            ]
          },
          "metadata": {},
          "execution_count": 188
        }
      ]
    },
    {
      "cell_type": "markdown",
      "metadata": {
        "id": "WBXzy_C7P1P4"
      },
      "source": [
        "<font  face=Times color=darkblue size=3> The ground state is non-degenerate, while the 1st excited states are degenerate (for 2 site problem)."
      ]
    },
    {
      "cell_type": "markdown",
      "metadata": {
        "id": "Z6BoUCk8gAH0"
      },
      "source": [
        "<font  face=Times color=darkblue size=3> Now, we see that for the antiferromagnet, the $S^z$ is generally equal to $0$ at ground state if N is even. And we can also see the $S_z$ at the triplet.\n",
        "    <br><br> You can check the value of $S_z$ if N is odd."
      ]
    },
    {
      "cell_type": "code",
      "metadata": {
        "id": "IQQvEThpgAH0"
      },
      "source": [],
      "execution_count": null,
      "outputs": []
    }
  ]
}