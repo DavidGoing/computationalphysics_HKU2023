{
  "nbformat": 4,
  "nbformat_minor": 0,
  "metadata": {
    "colab": {
      "name": "ED_Heisenberg_2_symmetries.ipynb",
      "provenance": []
    },
    "kernelspec": {
      "display_name": "Python 3",
      "language": "python",
      "name": "python3"
    },
    "language_info": {
      "codemirror_mode": {
        "name": "ipython",
        "version": 3
      },
      "file_extension": ".py",
      "mimetype": "text/x-python",
      "name": "python",
      "nbconvert_exporter": "python",
      "pygments_lexer": "ipython3",
      "version": "3.8.5"
    }
  },
  "cells": [
    {
      "cell_type": "markdown",
      "source": [
        "# Exact diagonalization study of Heisenberg chain(with symmetry simplification)\n",
        "\n",
        "This notebook contains breif notes and sample codes for solving Heisenberg chain using exact diagonalization method. It is for pedagogical purpose. The following text and codes are prepared by [Mr. Hongyu Lu（卢虹宇）](https://quantummc.xyz/members/hongyu-lu/) , [Mr. Min Long（龙敏）](https://quantummc.xyz/members/min-long/)and [ZYM](https://quantummc.xyz/members/zi-yang-meng/)."
      ],
      "metadata": {
        "id": "LAzlS7lRB0Rd"
      }
    },
    {
      "cell_type": "markdown",
      "metadata": {
        "id": "D7KlcbSqIOz6"
      },
      "source": [
        "## Model"
      ]
    },
    {
      "cell_type": "markdown",
      "metadata": {
        "id": "8f5KNFhjIO0B"
      },
      "source": [
        "<font  face=Times color=darkblue size=3> The model hamiltonian is: $$H=J\\sum_{<i,j>}\\vec{S_i}\\cdot \\vec{S_j}=J\\sum_{<i,j>}(\\frac{1}{2}(S_i^+S_j^-+S_i^-S_j^+)+S_i^zS_j^z)$$ with the spin raising/lowering operators.<br><br> We consider $S=1/2$ 1-dimensional spin chain here."
      ]
    },
    {
      "cell_type": "code",
      "metadata": {
        "id": "fvj-t4dxIO0D"
      },
      "source": [
        "import numpy as np\n",
        "import matplotlib.pyplot as plt\n",
        "import copy\n",
        "import csv"
      ],
      "execution_count": null,
      "outputs": []
    },
    {
      "cell_type": "markdown",
      "metadata": {
        "id": "0v-mJdbpIO0F"
      },
      "source": [
        "<font  face=Times color=darkblue size=3> In the 1st notebook, we directly construct the complete matrix of the Hamiltonian and directly diagonalize it. But by doing so, we have some problems: <br> 1. The matrix size $M=2^N$ becomes too large quickly. <br> 2.Maximum $N\\leq 20$. <br> 3.There are $M^2$ matrix elements to store, and the time to diagonalize is proportional to $M^3$.\n",
        "    <br><br> Therefore, we can choose the basis in such a way that the Hamiltonian becomes block-diagonal, and the blocks can be diagonalized individually. By doing so, we can reach larger N (not much larger, $N\\approx 40$ is max)."
      ]
    },
    {
      "cell_type": "markdown",
      "metadata": {
        "id": "9k-G4NTZIO0G"
      },
      "source": [
        "### Magnetization Conservation"
      ]
    },
    {
      "cell_type": "markdown",
      "metadata": {
        "id": "QNPTXg7aIO0G"
      },
      "source": [
        "<font  face=Times color=darkblue size=3 > The simplest example is to use magnetizaiton conservation: $$m_z=\\sum_i^N S_i^z\\ .$$ Then each block corresponds to fixed value of $m_z$, and there is no matrix elements between states of different $m_z$.\n",
        "    <br><br> So, the 1st step is to sort the states according to their values of $m_z$. Then construct each block-matrix and diagonalize individually."
      ]
    },
    {
      "cell_type": "code",
      "metadata": {
        "id": "IHYHQD12IO0H"
      },
      "source": [
        "# set parameters\n",
        "# N=10\n",
        "N  = 3\n",
        "dimension=2**N\n",
        "#spin chain with all spin-down\n",
        "z='0'*N\n"
      ],
      "execution_count": null,
      "outputs": []
    },
    {
      "cell_type": "code",
      "metadata": {
        "id": "WrMZRsRX4bb0"
      },
      "source": [
        "method=1;   # 0 or 1 corresponds to different way of flipping"
      ],
      "execution_count": null,
      "outputs": []
    },
    {
      "cell_type": "code",
      "metadata": {
        "id": "eA_P9NruIO0I"
      },
      "source": [
        "energy={} # {} dictionary , [] list\n",
        "states_dic = {}\n",
        "states_index = {}\n",
        "for num_up in range(0,N+1): # we use the number of spin_ups to specify the blocks\n",
        "    # first, find the states with corresponding mz\n",
        "    state_list=[]\n",
        "    for state in range(dimension):\n",
        "        chain_here=bin(state)[2:] # the spin chain\n",
        "        num_spinup=chain_here.count('1')\n",
        "        if num_spinup==num_up:\n",
        "            state_list.append(state)\n",
        "    #then,build the block-matrix\n",
        "    Hmz=np.zeros((len(state_list),len(state_list)))\n",
        "    for a in range(len(state_list)):\n",
        "        for i in range(N):\n",
        "            j=np.mod(i+1,N)\n",
        "            s_a=bin(state_list[a])[2:]\n",
        "            s_a=z[0:N-len(s_a)]+s_a\n",
        "            if s_a[i]==s_a[j]:\n",
        "                Hmz[a,a]+=0.25\n",
        "            else:\n",
        "                Hmz[a,a]-=0.25\n",
        "                chain_new=copy.deepcopy(s_a)\n",
        "                element_i=chain_new[i]\n",
        "                element_j=chain_new[j]\n",
        "                if method==0:\n",
        "                    if j==0:  # this is the concatenation way to exchange i and j\n",
        "                        chain_new=element_i+chain_new[1:N-1]+element_j\n",
        "                    else:\n",
        "                        chain_new=chain_new[0:i]+element_j+element_i+chain_new[j+1:]\n",
        "                    r=int(chain_new,2)\n",
        "\n",
        "                else: # using the .join way to exchange the i and j\n",
        "                    chain1=list(chain_new)\n",
        "                    chain1[i]=element_j\n",
        "                    chain1[j]=element_i\n",
        "                    r=int(''.join(chain1),2)\n",
        "#                if r in state_list:\n",
        "# actually this if is redundant, since the off-diagonal operator will not bring state b outside the block, as the off-diagonal operator will not change the total Mz.\n",
        "                b=state_list.index(r)  # find b after flip\n",
        "                Hmz[a,b]=0.5\n",
        "    eig_v=np.real(np.linalg.eig(Hmz)[0])\n",
        "    eig_vector = np.linalg.eig(Hmz)[1].T\n",
        "    states_dic[num_up] = eig_vector\n",
        "    energy[num_up]=eig_v\n",
        "    states_index[num_up] = state_list"
      ],
      "execution_count": null,
      "outputs": []
    },
    {
      "cell_type": "code",
      "metadata": {
        "id": "anywAkehqoS3",
        "colab": {
          "base_uri": "https://localhost:8080/"
        },
        "outputId": "372dba47-3383-4990-98f2-1ddfe236b418"
      },
      "source": [
        "for i in range(N+1):\n",
        "  print('==============')\n",
        "  print(energy[i])\n",
        "  print(states_dic[i])\n",
        "  print(states_index[i])\n"
      ],
      "execution_count": null,
      "outputs": [
        {
          "output_type": "stream",
          "name": "stdout",
          "text": [
            "==============\n",
            "[0.75]\n",
            "[[1.]]\n",
            "[0]\n",
            "==============\n",
            "[-0.75  0.75 -0.75]\n",
            "[[-0.81649658  0.40824829  0.40824829]\n",
            " [ 0.57735027  0.57735027  0.57735027]\n",
            " [ 0.22645541 -0.79259392  0.56613852]]\n",
            "[1, 2, 4]\n",
            "==============\n",
            "[-0.75  0.75 -0.75]\n",
            "[[-0.81649658  0.40824829  0.40824829]\n",
            " [ 0.57735027  0.57735027  0.57735027]\n",
            " [ 0.22645541 -0.79259392  0.56613852]]\n",
            "[3, 5, 6]\n",
            "==============\n",
            "[0.75]\n",
            "[[1.]]\n",
            "[7]\n"
          ]
        }
      ]
    },
    {
      "cell_type": "code",
      "source": [
        "a,b,c = [-0.81649658 , 0.40824829 , 0.40824829]\n",
        "print(a**2 + b**2 + c**2)\n"
      ],
      "metadata": {
        "id": "o9l_Wk5S_edE",
        "outputId": "f4f9304e-e6e3-4fbc-e78d-a485dd542f1a",
        "colab": {
          "base_uri": "https://localhost:8080/"
        }
      },
      "execution_count": null,
      "outputs": [
        {
          "output_type": "stream",
          "name": "stdout",
          "text": [
            "0.9999999977275448\n"
          ]
        }
      ]
    },
    {
      "cell_type": "markdown",
      "metadata": {
        "id": "8xgWu4PZIO0K"
      },
      "source": [
        "<font  face=Times color=darkblue size=3 > Since we use the number of spin-ups to specify the blocks, remember here $m_z=(n_{\\uparrow}-n_{\\downarrow})/2$ for $S=1/2$ Heisenberg model."
      ]
    },
    {
      "cell_type": "code",
      "metadata": {
        "colab": {
          "base_uri": "https://localhost:8080/",
          "height": 467
        },
        "id": "vHSGFlkwIO0L",
        "outputId": "ca30d992-c211-46fd-de81-773a06b96e88"
      },
      "source": [
        "for i in range(N+1):\n",
        "    plt.scatter([(i-(N-i))/2]*len(energy[i]),energy[i],marker='_',color='black')\n",
        "plt.xlabel('$m_z$')\n",
        "plt.ylabel('Energy')"
      ],
      "execution_count": null,
      "outputs": [
        {
          "output_type": "execute_result",
          "data": {
            "text/plain": [
              "Text(0, 0.5, 'Energy')"
            ]
          },
          "metadata": {},
          "execution_count": 16
        },
        {
          "output_type": "display_data",
          "data": {
            "text/plain": [
              "<Figure size 640x480 with 1 Axes>"
            ],
            "image/png": "[encoded data removed]"
          },
          "metadata": {}
        }
      ]
    },
    {
      "cell_type": "markdown",
      "metadata": {
        "id": "UQWt4S5VIO0N"
      },
      "source": [
        "<font  face=Times color=darkblue size=3 > You can see that, for even $N$, the ground state is when $m_z=0$. You can check the situation of odd $N$."
      ]
    },
    {
      "cell_type": "markdown",
      "metadata": {
        "id": "6eYBkxOZIO0O"
      },
      "source": [
        "### Momentum States (translationally invariant systems)"
      ]
    },
    {
      "cell_type": "markdown",
      "metadata": {
        "id": "oKmcg4o7IO0O"
      },
      "source": [
        "<font  face=Times color=darkblue size=3> A periodic chain (ring) is translationally invariant and we define a translation operator which moves the spins one step cyclically to the \"right\": $$\\hat{T}|S_0^z,S_1^z,...,S_{N-1}^z>=|S_{N-1}^z,S_0^z,\\dots,S_{N-2}^z>.$$ The Hamiltonian commutes with the translation operator: $[H,T]=0$. So we can construct momentum states $|\\psi(k)>$ as the eigenstates of the translation operator, $$\\hat T|\\psi(k)>=e^{ik}|\\psi(k)>,$$ with $k=2m\\pi/N$ and $m=0,1,2,\\dots,N-1$.\n",
        "    <br><br> A momentum state can be constructed from any representative state: $|a(k)>=\\frac{1}{\\sqrt{N_a}}\\sum_{r=0}^{N-1}e^{-ikr}T^r|a>$. We can obtain the momentum states from the representative states in each block with specific $k$.<br> Remember the translation invariance, the total weight of the component for $R$ $(T^R|a\\rangle=|a\\rangle)$ is: $1+e^{-ikR}+e^{-i2kR}+\\dots+e^{-ik(N-R)}$. The state can survive when $kR=2n\\pi$ and the weight of the representative is $N/R$.<br> Therefore, for each block ($k$), the first step is to find the representative states which satisfy the requirements. Notice that for any group of translationally invariant states, we take the lowest integer as the representative.\n",
        "    <br><br> To build each block-matrix, we can write the hamiltonian as: $H_0=\\sum_{j}^NS_j^zS_{j+1}^z$, and $H_j=\\frac{1}{2}(S_j^+S_{j+1}^-+S_j^-S_{j+1}^+).$  <br> In the momentum states: $$H|a(k)>=\\frac{1}{\\sqrt{N_a}}\\sum_{j=0}^N\\sum_{r=0}^{N-1}e^{-ikr}T^rH_j|a>.$$  In addition, $H_j|a>=h_a^jT^{-l_j}|b_j>$, the $h_a^j$ is the eigenvalue, and $|b_j>$ is another representative state. Therefore, by using the definition of momentum states and removing the summation index $r$, we have: $$H|a(k)>=\\sum_{j=0}^Nh_a^je^{-ikl_j}\\sqrt{\\frac{N_{b_j}}{N_a}}|b_j(k)>.$$ <br> The diagonal and off-diagonal block-matrix elements can be represented as: $$<a(k)|H_0|a(k)>=\\sum_j^NS_j^zS_{j+1}^z;$$ $$<b_j(k)|H_{j>0}|a(k)>=\\frac{1}{2}e^{-ikl_j}\\sqrt{\\frac{R_a}{R_{b_j}}}.$$"
      ]
    },
    {
      "cell_type": "code",
      "metadata": {
        "id": "E3oXV2gaIO0P"
      },
      "source": [
        "# set parameters\n",
        "N=3\n",
        "dimension=2**N\n",
        "#spin chain with all spin-down\n",
        "z='0'*N"
      ],
      "execution_count": null,
      "outputs": []
    },
    {
      "cell_type": "code",
      "metadata": {
        "id": "jzh0g59x4bb6"
      },
      "source": [
        "method=1"
      ],
      "execution_count": null,
      "outputs": []
    },
    {
      "cell_type": "code",
      "source": [
        "np.mod(0,5)"
      ],
      "metadata": {
        "colab": {
          "base_uri": "https://localhost:8080/"
        },
        "id": "tTq0MegQPpXO",
        "outputId": "ad17aa19-fa28-4e61-e632-90b830ce03df"
      },
      "execution_count": null,
      "outputs": [
        {
          "output_type": "execute_result",
          "data": {
            "text/plain": [
              "0"
            ]
          },
          "metadata": {},
          "execution_count": 21
        }
      ]
    },
    {
      "cell_type": "code",
      "metadata": {
        "colab": {
          "base_uri": "https://localhost:8080/"
        },
        "id": "dUofhAGMIO0P",
        "scrolled": true,
        "outputId": "fe6240fc-c3c2-46cd-b88a-bde73fb5458f"
      },
      "source": [
        "energy={}\n",
        "all_vects = {}\n",
        "components = {}\n",
        "for m in range(0,N): #k=m*2pi/N\n",
        "    print(m)\n",
        "    d=0\n",
        "    R_list=[]\n",
        "    state_list=[]\n",
        "    # first:find representatives(translation invariance)\n",
        "    for spinz in range(0,N+1):\n",
        "        # by adding this iteration of magnetization conservation, you can further split the hamiltonian (we do not do  it here)\n",
        "        for state in range(dimension):\n",
        "            chain_here=bin(state)[2:]\n",
        "            num_spinup=chain_here.count('1')\n",
        "            if num_spinup==spinz:\n",
        "                length=len(chain_here)\n",
        "                chain_here=z[0:N-length]+chain_here\n",
        "                for ii in range(1,N+1):\n",
        "                    chain_here=chain_here[N-1]+chain_here[0:N-1]\n",
        "                    state_t=int(chain_here,2)\n",
        "                    if state_t<state:\n",
        "                        break\n",
        "                    if state_t==state:\n",
        "                        if np.mod(m*ii,N)!=0:   #condition whether the state survives for this k\n",
        "                            break\n",
        "                        else:\n",
        "                            d=d+1\n",
        "                            R_list.append(ii)\n",
        "                            state_list.append(state)\n",
        "                            break\n",
        "\n",
        "    # construc block-matrix\n",
        "    Hm=np.zeros((d,d))\n",
        "    for a in range(d):\n",
        "        for j in range(N):\n",
        "            k=np.mod(j+1,N)\n",
        "            s_a=bin(state_list[a])[2:]\n",
        "            chain_m=z[0:N-len(s_a)]+s_a\n",
        "            #diagonal\n",
        "            if chain_m[j]==chain_m[k]:\n",
        "                Hm[a,a]+=1/4\n",
        "            else:\n",
        "                Hm[a,a]-=1/4\n",
        "                chain_new=copy.deepcopy(chain_m)\n",
        "                element_j=chain_new[j]\n",
        "                element_k=chain_new[k]\n",
        "                if method==0:\n",
        "                    if k==0:  # this is the concatenation way to exchange i and j\n",
        "                        chain_new=element_j+chain_new[1:N-1]+element_k\n",
        "                    else:\n",
        "                        chain_new=chain_new[0:j]+element_k+element_j+chain_new[k+1:]\n",
        "                    r=int(chain_new,2)\n",
        "                    t=copy.deepcopy(chain_new)\n",
        "                else: # using the .join way to exchange the k and j\n",
        "                    chain1=list(chain_new)\n",
        "                    chain1[j]=element_k\n",
        "                    chain1[k]=element_j\n",
        "                    r=int(''.join(chain1),2)\n",
        "                    t=copy.deepcopy(''.join(chain1))\n",
        "                l=0\n",
        "                for iii in range(1,N): # find the representative of the new chain\n",
        "                    t=t[N-1]+t[0:N-1]\n",
        "                    s_t=int(t,2)\n",
        "                    if s_t<r:\n",
        "                        r=s_t\n",
        "                        l=iii\n",
        "                if r in state_list:\n",
        "                    b=state_list.index(r)\n",
        "                    Hm[a,b]+=0.5*np.sqrt(R_list[a]/R_list[b])*np.exp(-1j*2*np.pi*m*l/N) # off-diagonal\n",
        "    eig_v=np.real(np.linalg.eig(Hm)[0])\n",
        "    energy[m]=eig_v\n",
        "    all_vects[m] = state_list\n",
        "    components[m] = np.linalg.eig(Hm)[1].T"
      ],
      "execution_count": null,
      "outputs": [
        {
          "output_type": "stream",
          "name": "stdout",
          "text": [
            "0\n",
            "1\n",
            "2\n"
          ]
        },
        {
          "output_type": "stream",
          "name": "stderr",
          "text": [
            "<ipython-input-25-94f4394684a8>:69: ComplexWarning: Casting complex values to real discards the imaginary part\n",
            "  Hm[a,b]+=0.5*np.sqrt(R_list[a]/R_list[b])*np.exp(-1j*2*np.pi*m*l/N) # off-diagonal\n"
          ]
        }
      ]
    },
    {
      "cell_type": "code",
      "source": [
        "for i in range(N):\n",
        "    plt.scatter([i*2*np.pi/N]*len(energy[i]),energy[i],marker='_',color='black')\n",
        "plt.xlabel(r'$k$',fontsize=14)\n",
        "plt.ylabel(r'$E$',fontsize=14)\n",
        "plt.xticks([0,np.pi*2/3,np.pi*4/3,2*np.pi],[r'$0$',r'$\\frac{2\\pi}{3}$',r'${\\frac{4\\pi}{3}}$',r'$2\\pi$'],fontsize=14)\n",
        "plt.xlim(0,2*np.pi)\n",
        "plt.title('N='+str(N))"
      ],
      "metadata": {
        "id": "N-BKnahZDBti",
        "outputId": "956ecc49-ec1e-4359-b061-1e637b640905",
        "colab": {
          "base_uri": "https://localhost:8080/",
          "height": 510
        }
      },
      "execution_count": null,
      "outputs": [
        {
          "output_type": "execute_result",
          "data": {
            "text/plain": [
              "Text(0.5, 1.0, 'N=3')"
            ]
          },
          "metadata": {},
          "execution_count": 26
        },
        {
          "output_type": "display_data",
          "data": {
            "text/plain": [
              "<Figure size 640x480 with 1 Axes>"
            ],
            "image/png": "[encoded data removed]"
          },
          "metadata": {}
        }
      ]
    },
    {
      "cell_type": "code",
      "source": [
        "for i in range(N):\n",
        "  print('==========')\n",
        "  print(energy[i])\n",
        "  print(all_vects[i])\n",
        "  print(components[i])"
      ],
      "metadata": {
        "id": "-BhMSPWaAfXw",
        "outputId": "ba12da21-05fa-475d-dd92-015cdaf68eab",
        "colab": {
          "base_uri": "https://localhost:8080/"
        }
      },
      "execution_count": null,
      "outputs": [
        {
          "output_type": "stream",
          "name": "stdout",
          "text": [
            "==========\n",
            "[0.75 0.75 0.75 0.75]\n",
            "[0, 1, 3, 7]\n",
            "[[1. 0. 0. 0.]\n",
            " [0. 1. 0. 0.]\n",
            " [0. 0. 1. 0.]\n",
            " [0. 0. 0. 1.]]\n",
            "==========\n",
            "[-0.75 -0.75]\n",
            "[1, 3]\n",
            "[[1. 0.]\n",
            " [0. 1.]]\n",
            "==========\n",
            "[-0.75 -0.75]\n",
            "[1, 3]\n",
            "[[1. 0.]\n",
            " [0. 1.]]\n"
          ]
        }
      ]
    },
    {
      "cell_type": "markdown",
      "source": [
        "The wavefunctions are classified by momentum and spinz, as follows:\n",
        "\n",
        "$E_{m=0}=0.75$, $k=\\frac{2\\pi}{3}*0$, $T|\\psi_{m=0}\\rangle=e^{i 0 * \\frac{2\\pi}{3}}|\\psi_{m=0}\\rangle$\n",
        "\n",
        "$|\\psi_{m=0,spinz=0}\\rangle=|000\\rangle$;\n",
        "\n",
        "$|\\psi_{m=0,spinz=1}\\rangle=|001\\rangle+|010\\rangle+|100\\rangle$;\n",
        "\n",
        "$|\\psi_{m=0,spinz=2}\\rangle=|011\\rangle+|110\\rangle+|101\\rangle$;\n",
        "\n",
        "$|\\psi_{m=0,spinz=3}\\rangle=|111\\rangle$;\n",
        "\n",
        "\\\\\n",
        "$E_{m=1}=-0.75$, $k=\\frac{2\\pi}{3}*1$, $T|\\psi_{m=1}\\rangle=e^{i  1*\\frac{2\\pi}{3}}|\\psi_{m=1}\\rangle$\n",
        "\n",
        "$|\\psi_{m=1,spinz=1}\\rangle=e^{i\\frac{2\\pi}{3}*3}|001\\rangle+e^{i\\frac{2\\pi}{3}*2}|010\\rangle+e^{i\\frac{2\\pi}{3}}|100\\rangle$;\n",
        "\n",
        "$|\\psi_{m=1,spinz=2}\\rangle=e^{i\\frac{2\\pi}{3}*3}|011\\rangle+e^{i\\frac{2\\pi}{3}*2}|110\\rangle+e^{i\\frac{2\\pi}{3}}|101\\rangle$;\n",
        "\n",
        "\\\\\n",
        "$E_{m=2}=-0.75$, $k=\\frac{2\\pi}{3}*2$, $T|\\psi_{m=2}\\rangle=e^{i  2*\\frac{2\\pi}{3}}|\\psi_{m=2}\\rangle$\n",
        "\n",
        "$|\\psi_{m=2,spinz=1}\\rangle=e^{i\\frac{4\\pi}{3}*3}|001\\rangle+e^{i\\frac{4\\pi}{3}*2}|010\\rangle+e^{i\\frac{4\\pi}{3}}|100\\rangle$;\n",
        "\n",
        "$|\\psi_{m=2,spinz=2}\\rangle=e^{i\\frac{4\\pi}{3}*3}|011\\rangle+e^{i\\frac{4\\pi}{3}*2}|110\\rangle+e^{i\\frac{4\\pi}{3}}|101\\rangle$;"
      ],
      "metadata": {
        "id": "oiCFbYdcu1Mt"
      }
    },
    {
      "cell_type": "markdown",
      "metadata": {
        "id": "tYfU9CFW5C6W"
      },
      "source": [
        "<font  face=Times color=darkblue size=3>  The spin-1 chain energy spectra are kindly provided to us from Prof. Han-Qing Wu from Sun Yat-Sen University in Guang zhou. They have used the Lanczos method to reduced the size of the Hamiltonian matrices, which would be $3^N \\times 3^N$ (531441 $\\times$ 531441 when $N=12$ and 43046721 $\\times$ 43046721 when $N=16$) if one constructed naively."
      ]
    },
    {
      "cell_type": "markdown",
      "source": [
        "![结果.png](data:image/png;base64,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)"
      ],
      "metadata": {
        "id": "ghItQ6Zt2j64"
      }
    }
  ]
}