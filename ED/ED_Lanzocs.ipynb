{
  "cells": [
    {
      "cell_type": "markdown",
      "id": "1fc4c501",
      "metadata": {
        "id": "1fc4c501"
      },
      "source": [
        "# Exact diagonalization study of 1/2 Heisenberg chain by Lanczos algorithm"
      ]
    },
    {
      "cell_type": "code",
      "execution_count": 23,
      "id": "610b4d3d",
      "metadata": {
        "id": "610b4d3d"
      },
      "outputs": [],
      "source": [
        "import numpy as np\n",
        "import matplotlib.pyplot as plt\n",
        "import math"
      ]
    },
    {
      "cell_type": "code",
      "execution_count": 55,
      "id": "ab8d099f",
      "metadata": {
        "colab": {
          "base_uri": "https://localhost:8080/",
          "height": 37
        },
        "id": "ab8d099f",
        "outputId": "5eb06d4b-bd2f-487a-c184-00a267befe7e"
      },
      "outputs": [
        {
          "output_type": "execute_result",
          "data": {
            "text/plain": [
              "'0000000000000'"
            ],
            "application/vnd.google.colaboratory.intrinsic+json": {
              "type": "string"
            }
          },
          "metadata": {},
          "execution_count": 55
        }
      ],
      "source": [
        "# set parameters\n",
        "N=13\n",
        "dimension=2**N\n",
        "#spin chain with all spin-down\n",
        "z='0'*N\n",
        "# initialize hamiltonian\n",
        "H=np.zeros((dimension,dimension))\n",
        "z"
      ]
    },
    {
      "cell_type": "code",
      "execution_count": 56,
      "id": "69f232e5",
      "metadata": {
        "id": "69f232e5"
      },
      "outputs": [],
      "source": [
        "# Matrix Construction\n",
        "for a in range(dimension):\n",
        "    state_chain=bin(a)[2:] # the first two should be omitted for this 'bin' function\n",
        "    l=len(state_chain)\n",
        "    state_chain=z[0:N-l]+state_chain # make the length equal to N\n",
        "    #print(state_chain)\n",
        "  # for PBC, we set i in range(N)\n",
        "  # for OBC, we set i in range(N-1)\n",
        "    for i in range(N):\n",
        "        j=np.mod(i+1,N)\n",
        " #       print(state_chain)\n",
        "        if state_chain[i]==state_chain[j]: # i=j only diagonal elements\n",
        "            H[a,a]+=0.25\n",
        "#            print('a:',a)\n",
        "        else:                              # else, the raising/lowering operators also have contributions\n",
        "            H[a,a]-=0.25\n",
        "            # then exchange i,j\n",
        "            element_i=state_chain[i]\n",
        "            element_j=state_chain[j]\n",
        "            #flip\n",
        "            if j==0:\n",
        "#here we are doing the concatenation of string (you can try other methods)\n",
        "#                    print(state_chain)\n",
        "                state_chain1=element_i+state_chain[1:N-1]+element_j\n",
        "            else:\n",
        "                state_chain1=state_chain[0:i]+element_j+element_i+state_chain[j+1:]\n",
        "#            print(state_chain)\n",
        "            b=int(state_chain1,2)\n",
        "#            print('a:',a)\n",
        "#            print('b:',b)\n",
        "            H[a,b]+=0.5"
      ]
    },
    {
      "cell_type": "markdown",
      "id": "9d857af4",
      "metadata": {
        "id": "9d857af4"
      },
      "source": [
        "# Lanczos\n",
        "https://en.wikipedia.org/wiki/Lanczos_algorithm"
      ]
    },
    {
      "cell_type": "code",
      "execution_count": 57,
      "id": "2b7ab6c7",
      "metadata": {
        "id": "2b7ab6c7"
      },
      "outputs": [],
      "source": [
        "def random_orthogonal(V,j):\n",
        "    N = V.shape[0]\n",
        "    v = np.random.randn(N)+1j*np.random.randn(N)\n",
        "    for i in range(j):\n",
        "        u = V[:,i]\n",
        "        v -= np.vdot(u,v)*u/np.vdot(u,u)\n",
        "    v = v/np.linalg.norm(v)\n",
        "    return v\n",
        "def Lanczos(Hamiltonian):\n",
        "    H = np.copy(Hamiltonian)\n",
        "    N = H.shape[0]\n",
        "    m = min(100,N)\n",
        "    H = 0.5*(H + H.conj().T)  # ensure Hermitian\n",
        "    V_matrix = np.zeros((N, m), dtype=complex)\n",
        "    T = np.zeros((m, m), dtype=complex)\n",
        "    # init\n",
        "    v = np.random.randn(N) + 1j*np.random.randn(N)\n",
        "    v /= np.linalg.norm(v)\n",
        "    V_matrix[:, 0] = v\n",
        "\n",
        "    w_prime = H @ v\n",
        "    alpha = np.vdot(v, w_prime)\n",
        "    w = w_prime - alpha * v\n",
        "    T[0, 0] = alpha\n",
        "\n",
        "    for i in range(1, m):\n",
        "        if (i+1)%(m//10) == 0:\n",
        "            percent = int((i+1)/m*100)\n",
        "            print(f\"Lanczos Progress:{percent}%\")\n",
        "        h = V_matrix[:, :i].conj().T @ w\n",
        "        w -= V_matrix[:, :i] @ h\n",
        "        beta = np.linalg.norm(w)\n",
        "        v_old = v\n",
        "        if beta < 10e-6:\n",
        "            v = random_orthogonal(V_matrix,i)\n",
        "        else:\n",
        "            v = w / beta\n",
        "        V_matrix[:, i] = v\n",
        "        w_prime = H @ v - beta * v_old\n",
        "        alpha = np.vdot(v, w_prime)\n",
        "        w = w_prime - alpha * v\n",
        "\n",
        "        T[i, i] = alpha\n",
        "        T[i, i-1] = beta\n",
        "        T[i-1, i] = beta\n",
        "\n",
        "    return T\n",
        "\n",
        "\n"
      ]
    },
    {
      "cell_type": "markdown",
      "id": "03591eb3",
      "metadata": {
        "id": "03591eb3"
      },
      "source": [
        "# Implicitly Shifted QR Decomposition Method to solve the eigenvalues of tridiagonal matrix\n",
        "\n",
        "Algorithm 4 from the book: [Handbook of Linear Algebra by Hogben](https://math.ecnu.edu.cn/~jypan/Teaching/MC/refs/2014%20Symmetric%20Matrix%20Eigenvalue%20Techniques.pdf)\n",
        "\n",
        "\n"
      ]
    },
    {
      "cell_type": "code",
      "execution_count": 58,
      "id": "54d108c2",
      "metadata": {
        "id": "54d108c2"
      },
      "outputs": [],
      "source": [
        "# import numpy as np\n",
        "\n",
        "# def generate_symmetric_tridiagonal_matrix(n):\n",
        "\n",
        "#     main_diag = np.random.rand(n)\n",
        "#     off_diag = np.random.rand(n-1)\n",
        "#     T = np.zeros((n, n))\n",
        "#     np.fill_diagonal(T, main_diag)\n",
        "#     np.fill_diagonal(T[1:], off_diag)\n",
        "#     np.fill_diagonal(T[:, 1:], off_diag)\n",
        "\n",
        "#     return T\n"
      ]
    },
    {
      "cell_type": "code",
      "execution_count": 59,
      "id": "551b784f",
      "metadata": {
        "id": "551b784f"
      },
      "outputs": [],
      "source": [
        "def Givens(x,y):\n",
        "    G = np.zeros([2,2])\n",
        "    if y == 0:\n",
        "        c = 1\n",
        "        s = 0\n",
        "    elif x == 0:\n",
        "        c = 0\n",
        "        s = np.sign(y)\n",
        "    else:\n",
        "        c = abs(x)/math.sqrt(abs(x)**2+abs(y)**2)\n",
        "        s = np.sign(x)*y/math.sqrt(abs(x)**2+abs(y)**2)\n",
        "    G[0,0] = c\n",
        "    G[1,1] = c\n",
        "    G[0,1] = s\n",
        "    G[1,0] = -s\n",
        "    return G\n",
        "\n",
        "def QR_iteration(T_matrix):\n",
        "    T = np.copy(T_matrix)\n",
        "    T = np.real(T)\n",
        "    epsilon = 10e-6\n",
        "    if T.shape == (1,1):\n",
        "        return T\n",
        "    n_itr = 0\n",
        "\n",
        "    while True:\n",
        "        n_itr += 1\n",
        "        N = T.shape[0]\n",
        "\n",
        "        tau = (T[N-2,N-2]-T[N-1,N-1])/2\n",
        "        sgn = np.copysign(1.0,tau)\n",
        "        den = tau + sgn * np.sqrt(tau*tau+T[N-1,N-2]**2)\n",
        "        if den == 0:\n",
        "            mu = T[N-1,N-1]\n",
        "        else:\n",
        "            mu = T[N-1,N-1]-T[N-1,N-2]**2/den\n",
        "\n",
        "        for i in range(0,N-1):\n",
        "            if i==0:\n",
        "                G = Givens(T[0,0]-mu,T[1,0])\n",
        "            else:\n",
        "                G = Givens(T[i,i-1],T[i+1,i-1])\n",
        "\n",
        "            iL = max(i-1,0)\n",
        "            iR = min(N,i+3)\n",
        "\n",
        "            T[i:i+2,iL:iR] = G@T[i:i+2,iL:iR]\n",
        "            T[iL:iR,i:i+2] = T[iL:iR,i:i+2]@G.T\n",
        "\n",
        "            if abs(T[i,i+1])**2 <= epsilon**2*abs(T[i,i]*T[i+1,i+1]):\n",
        "                #print(n_itr)\n",
        "                T[i,i+1] = T[i+1,i] = 0.0\n",
        "                T[0:i+1,0:i+1] = QR_iteration(T[0:i+1,0:i+1])\n",
        "                T[i+1:N,i+1:N] = QR_iteration(T[i+1:N,i+1:N])\n",
        "                return T\n",
        "\n",
        ""
      ]
    },
    {
      "cell_type": "code",
      "execution_count": 60,
      "id": "dd785e86",
      "metadata": {
        "id": "dd785e86"
      },
      "outputs": [],
      "source": [
        "# N_ = 1000\n",
        "# A = np.random.randn(N_, N_) + 1j * np.random.randn(N_, N_)\n",
        "# H = (A + A.conj().T) / 2"
      ]
    },
    {
      "cell_type": "code",
      "source": [
        "T = Lanczos(H)\n",
        "Lambda = QR_iteration(T)\n",
        "eigs_lan = np.diag(Lambda)\n",
        "eigs_lan = np.sort(eigs_lan)\n",
        "print(eigs_lan)"
      ],
      "metadata": {
        "id": "bwIfHqz9YN7V",
        "outputId": "eb507331-ad0e-46ab-f6ba-5131afacb536",
        "colab": {
          "base_uri": "https://localhost:8080/"
        }
      },
      "id": "bwIfHqz9YN7V",
      "execution_count": 61,
      "outputs": [
        {
          "output_type": "stream",
          "name": "stdout",
          "text": [
            "Lanczos Progress:10%\n",
            "Lanczos Progress:20%\n",
            "Lanczos Progress:30%\n",
            "Lanczos Progress:40%\n",
            "Lanczos Progress:50%\n",
            "Lanczos Progress:60%\n",
            "Lanczos Progress:70%\n",
            "Lanczos Progress:80%\n",
            "Lanczos Progress:90%\n",
            "Lanczos Progress:100%\n",
            "[-5.62958433e+00 -5.62958433e+00 -5.00187552e+00 -5.00187541e+00\n",
            " -4.92049447e+00 -4.92009354e+00 -4.65676458e+00 -4.41833956e+00\n",
            " -4.40146825e+00 -4.35673429e+00 -4.24574167e+00 -4.23715427e+00\n",
            " -4.19383491e+00 -4.06506862e+00 -4.06146673e+00 -3.93997452e+00\n",
            " -3.87645853e+00 -3.84613605e+00 -3.77611000e+00 -3.75047027e+00\n",
            " -3.71165361e+00 -3.62340849e+00 -3.56786298e+00 -3.45201148e+00\n",
            " -3.40296342e+00 -3.31732323e+00 -3.26006904e+00 -3.13346937e+00\n",
            " -3.04856393e+00 -2.95326103e+00 -2.86587077e+00 -2.77829182e+00\n",
            " -2.67311349e+00 -2.58448230e+00 -2.47687280e+00 -2.37299368e+00\n",
            " -2.26776412e+00 -2.14389614e+00 -2.06298583e+00 -1.94021539e+00\n",
            " -1.83820128e+00 -1.71494176e+00 -1.60846944e+00 -1.49540055e+00\n",
            " -1.37715137e+00 -1.26277172e+00 -1.14243882e+00 -1.03403316e+00\n",
            " -8.99608279e-01 -8.00295117e-01 -6.87752148e-01 -5.70807932e-01\n",
            " -4.51941341e-01 -3.25499398e-01 -2.28774738e-01 -1.10063187e-01\n",
            " -3.66440444e-03  1.16586985e-01  2.37569828e-01  3.38924426e-01\n",
            "  4.57402299e-01  5.63434893e-01  6.82171890e-01  7.83067942e-01\n",
            "  8.89137929e-01  9.93293869e-01  1.09736529e+00  1.17720542e+00\n",
            "  1.29050972e+00  1.38337670e+00  1.49354349e+00  1.58003782e+00\n",
            "  1.67390708e+00  1.77431218e+00  1.84000138e+00  1.92645158e+00\n",
            "  2.01347958e+00  2.08209950e+00  2.16368008e+00  2.23053601e+00\n",
            "  2.31554300e+00  2.37225671e+00  2.43828831e+00  2.49641064e+00\n",
            "  2.56050290e+00  2.59684351e+00  2.65253190e+00  2.68416569e+00\n",
            "  2.74725056e+00  2.79689675e+00  2.81623306e+00  2.85000939e+00\n",
            "  2.89461604e+00  2.90263971e+00  2.92874464e+00  2.97563139e+00\n",
            "  2.98205074e+00  3.04428349e+00  3.13545603e+00  3.25000000e+00]\n"
          ]
        }
      ]
    },
    {
      "cell_type": "code",
      "execution_count": null,
      "id": "e26ed7c0",
      "metadata": {
        "id": "e26ed7c0",
        "outputId": "86368e9f-0ce0-4e84-a495-2d130f31d4e4"
      },
      "outputs": [
        {
          "name": "stdout",
          "output_type": "stream",
          "text": [
            "[-5.62958433 -5.62958433 -5.62958433 ...  3.25        3.25\n",
            "  3.25      ]\n"
          ]
        }
      ],
      "source": [
        "eig_value_H=np.real(np.linalg.eig(H)[0])\n",
        "eig_value_H = np.sort(eig_value_H)\n",
        "print(eig_value_H)"
      ]
    },
    {
      "cell_type": "code",
      "execution_count": null,
      "id": "057d0cc9",
      "metadata": {
        "id": "057d0cc9"
      },
      "outputs": [],
      "source": []
    }
  ],
  "metadata": {
    "kernelspec": {
      "display_name": "vaspwfc",
      "language": "python",
      "name": "python3"
    },
    "language_info": {
      "codemirror_mode": {
        "name": "ipython",
        "version": 3
      },
      "file_extension": ".py",
      "mimetype": "text/x-python",
      "name": "python",
      "nbconvert_exporter": "python",
      "pygments_lexer": "ipython3",
      "version": "3.11.11"
    },
    "colab": {
      "provenance": []
    }
  },
  "nbformat": 4,
  "nbformat_minor": 5
}