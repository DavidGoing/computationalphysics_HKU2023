{
  "cells": [
    {
      "cell_type": "markdown",
      "id": "1fc4c501",
      "metadata": {
        "id": "1fc4c501"
      },
      "source": [
        "# Exaact diagonalization study of Heisenberg chain by Lanczos algorithm"
      ]
    },
    {
      "cell_type": "code",
      "execution_count": 6,
      "id": "610b4d3d",
      "metadata": {
        "id": "610b4d3d"
      },
      "outputs": [],
      "source": [
        "import numpy as np\n",
        "import matplotlib.pyplot as plt\n",
        "import math"
      ]
    },
    {
      "cell_type": "code",
      "execution_count": 7,
      "id": "ab8d099f",
      "metadata": {
        "colab": {
          "base_uri": "https://localhost:8080/",
          "height": 37
        },
        "id": "ab8d099f",
        "outputId": "f1f1a2fa-0ce7-4902-f6f0-ac259751d5ed"
      },
      "outputs": [
        {
          "output_type": "execute_result",
          "data": {
            "text/plain": [
              "'0000000000000'"
            ],
            "application/vnd.google.colaboratory.intrinsic+json": {
              "type": "string"
            }
          },
          "metadata": {},
          "execution_count": 7
        }
      ],
      "source": [
        "# set parameters\n",
        "N=13\n",
        "dimension=2**N\n",
        "#spin chain with all spin-down\n",
        "z='0'*N\n",
        "# initialize hamiltonian\n",
        "H=np.zeros((dimension,dimension))\n",
        "z"
      ]
    },
    {
      "cell_type": "code",
      "execution_count": 8,
      "id": "69f232e5",
      "metadata": {
        "id": "69f232e5"
      },
      "outputs": [],
      "source": [
        "# Matrix Construction\n",
        "for a in range(dimension):\n",
        "    state_chain=bin(a)[2:] # the first two should be omitted for this 'bin' function\n",
        "    l=len(state_chain)\n",
        "    state_chain=z[0:N-l]+state_chain # make the length equal to N\n",
        "    #print(state_chain)\n",
        "  # for PBC, we set i in range(N)\n",
        "  # for OBC, we set i in range(N-1)\n",
        "    for i in range(N):\n",
        "        j=np.mod(i+1,N)\n",
        " #       print(state_chain)\n",
        "        if state_chain[i]==state_chain[j]: # i=j only diagonal elements\n",
        "            H[a,a]+=0.25\n",
        "#            print('a:',a)\n",
        "        else:                              # else, the raising/lowering operators also have contributions\n",
        "            H[a,a]-=0.25\n",
        "            # then exchange i,j\n",
        "            element_i=state_chain[i]\n",
        "            element_j=state_chain[j]\n",
        "            #flip\n",
        "            if j==0:\n",
        "#here we are doing the concatenation of string (you can try other methods)\n",
        "#                    print(state_chain)\n",
        "                state_chain1=element_i+state_chain[1:N-1]+element_j\n",
        "            else:\n",
        "                state_chain1=state_chain[0:i]+element_j+element_i+state_chain[j+1:]\n",
        "#            print(state_chain)\n",
        "            b=int(state_chain1,2)\n",
        "#            print('a:',a)\n",
        "#            print('b:',b)\n",
        "            H[a,b]+=0.5"
      ]
    },
    {
      "cell_type": "markdown",
      "id": "9d857af4",
      "metadata": {
        "id": "9d857af4"
      },
      "source": [
        "# Lanczos\n",
        "https://en.wikipedia.org/wiki/Lanczos_algorithm"
      ]
    },
    {
      "cell_type": "code",
      "execution_count": 9,
      "id": "086ab5b0",
      "metadata": {
        "id": "086ab5b0"
      },
      "outputs": [],
      "source": [
        "def random_orthogonal(V,j):\n",
        "    N = V.shape[0]\n",
        "    v = np.random.randn(N)+1j*np.random.randn(N)\n",
        "    for i in range(j):\n",
        "        u = V[:,i]\n",
        "        v -= np.vdot(u,v)*u/np.vdot(u,u)\n",
        "    v = v/np.linalg.norm(v)\n",
        "    return v"
      ]
    },
    {
      "cell_type": "code",
      "execution_count": 10,
      "id": "2b7ab6c7",
      "metadata": {
        "id": "2b7ab6c7"
      },
      "outputs": [],
      "source": [
        "def Lanczos(Hamiltonian):\n",
        "    H = np.copy(Hamiltonian)\n",
        "    N = H.shape[0]\n",
        "    m = 100\n",
        "    H = 0.5*(H + H.conj().T)  # ensure Hermitian\n",
        "    V_matrix = np.zeros((N, m), dtype=complex)\n",
        "    T = np.zeros((m, m), dtype=complex)\n",
        "\n",
        "    # # scale-aware tolerance\n",
        "    # eps = np.finfo(float).eps\n",
        "    # Hnorm = np.linalg.norm(H, ord=2)\n",
        "    # tol = np.sqrt(eps) * (Hnorm if Hnorm>0 else 1.0)\n",
        "\n",
        "    # init\n",
        "    v = np.random.randn(N) + 1j*np.random.randn(N)\n",
        "    v /= np.linalg.norm(v)\n",
        "    V_matrix[:, 0] = v\n",
        "\n",
        "    w_prime = H @ v\n",
        "    alpha = np.vdot(v, w_prime)\n",
        "    w = w_prime - alpha * v\n",
        "    T[0, 0] = alpha\n",
        "\n",
        "    for i in range(1, m):\n",
        "        if (i+1)%(m//10) == 0:\n",
        "            percent = int((i+1)/m*100)\n",
        "            print(f\"Lanczos Progress:{percent}%\")\n",
        "        #print(i)\n",
        "        h = V_matrix[:, :i].conj().T @ w\n",
        "        w -= V_matrix[:, :i] @ h\n",
        "        beta = np.linalg.norm(w)\n",
        "        v_old = v\n",
        "        v = w / beta\n",
        "        if beta < 10e-6:\n",
        "            v = random_orthogonal(V_matrix,i)\n",
        "        else:\n",
        "            v = w / beta\n",
        "        V_matrix[:, i] = v\n",
        "        w_prime = H @ v - beta * v_old\n",
        "        alpha = np.vdot(v, w_prime)\n",
        "        w = w_prime - alpha * v\n",
        "\n",
        "        T[i, i] = alpha\n",
        "        T[i, i-1] = beta\n",
        "        T[i-1, i] = beta\n",
        "\n",
        "    return T\n",
        "\n",
        "\n"
      ]
    },
    {
      "cell_type": "markdown",
      "id": "03591eb3",
      "metadata": {
        "id": "03591eb3"
      },
      "source": [
        "# Implicitly Shifted QR Decomposition Method to solve the eigenvalues of tridiagonal matrix\n",
        "\n",
        "Algorithm 4 from the book: [Handbook of Linear Algebra by Hogben](https://math.ecnu.edu.cn/~jypan/Teaching/MC/refs/2014%20Symmetric%20Matrix%20Eigenvalue%20Techniques.pdf)\n",
        "\n",
        "\n"
      ]
    },
    {
      "cell_type": "code",
      "execution_count": null,
      "id": "54d108c2",
      "metadata": {
        "id": "54d108c2"
      },
      "outputs": [],
      "source": [
        "# import numpy as np\n",
        "\n",
        "# def generate_symmetric_tridiagonal_matrix(n):\n",
        "\n",
        "#     main_diag = np.random.rand(n)\n",
        "#     off_diag = np.random.rand(n-1)\n",
        "#     T = np.zeros((n, n))\n",
        "#     np.fill_diagonal(T, main_diag)\n",
        "#     np.fill_diagonal(T[1:], off_diag)\n",
        "#     np.fill_diagonal(T[:, 1:], off_diag)\n",
        "\n",
        "#     return T\n"
      ]
    },
    {
      "cell_type": "code",
      "execution_count": 12,
      "id": "551b784f",
      "metadata": {
        "id": "551b784f"
      },
      "outputs": [],
      "source": [
        "def Givens(x,y):\n",
        "    G = np.zeros([2,2])\n",
        "    if y == 0:\n",
        "        c = 1\n",
        "        s = 0\n",
        "    elif x == 0:\n",
        "        c = 0\n",
        "        s = np.sign(y)\n",
        "    else:\n",
        "        c = abs(x)/math.sqrt(abs(x)**2+abs(y)**2)\n",
        "        s = x/abs(x)*y/math.sqrt(abs(x)**2+abs(y)**2)\n",
        "    G[0,0] = c\n",
        "    G[1,1] = c\n",
        "    G[0,1] = s\n",
        "    G[1,0] = -s\n",
        "    return G\n",
        "\n",
        "def QR_iteration(T_matrix):\n",
        "    T = np.copy(T_matrix)\n",
        "    T = np.real(T)\n",
        "    epsilon = 10e-6\n",
        "    if T.shape == (1,1):\n",
        "        return T\n",
        "    n_itr = 0\n",
        "\n",
        "    while True:\n",
        "        n_itr += 1\n",
        "        N = T.shape[0]\n",
        "        tau = (T[N-2,N-2]-T[N-1,N-1])/2\n",
        "        mu = T[N-1,N-1]-T[N-1,N-2]**2/(tau+np.sign(tau)*np.sqrt(tau**2+T[N-1,N-2]**2))\n",
        "\n",
        "        for i in range(0,N-1):\n",
        "            if i==0:\n",
        "                G = Givens(T[0,0]-mu,T[1,0])\n",
        "            else:\n",
        "                G = Givens(T[i,i-1],T[i+1,i-1])\n",
        "\n",
        "            iL = max(i-1,0)\n",
        "            iR = min(N,i+3)\n",
        "\n",
        "            T[i:i+2,iL:iR] = G@T[i:i+2,iL:iR]\n",
        "            T[iL:iR,i:i+2] = T[iL:iR,i:i+2]@G.T\n",
        "\n",
        "            if abs(T[i,i+1])**2 <= epsilon**2*abs(T[i,i]*T[i+1,i+1]):\n",
        "                #print(n_itr)\n",
        "                T[i,i+1] = T[i+1,i] = 0.0\n",
        "                T[0:i+1,0:i+1] = QR_iteration(T[0:i+1,0:i+1])\n",
        "                T[i+1:N,i+1:N] = QR_iteration(T[i+1:N,i+1:N])\n",
        "                return T\n",
        "\n"
      ]
    },
    {
      "cell_type": "code",
      "execution_count": null,
      "id": "dd785e86",
      "metadata": {
        "id": "dd785e86"
      },
      "outputs": [],
      "source": [
        "# N_ = 1000\n",
        "# A = np.random.randn(N_, N_) + 1j * np.random.randn(N_, N_)\n",
        "# H = (A + A.conj().T) / 2"
      ]
    },
    {
      "cell_type": "code",
      "execution_count": null,
      "id": "e26ed7c0",
      "metadata": {
        "id": "e26ed7c0",
        "outputId": "86368e9f-0ce0-4e84-a495-2d130f31d4e4"
      },
      "outputs": [
        {
          "name": "stdout",
          "output_type": "stream",
          "text": [
            "[-5.62958433 -5.62958433 -5.62958433 ...  3.25        3.25\n",
            "  3.25      ]\n"
          ]
        }
      ],
      "source": [
        "eig_value_H=np.real(np.linalg.eig(H)[0])\n",
        "eig_value_H = np.sort(eig_value_H)\n",
        "print(eig_value_H)"
      ]
    },
    {
      "cell_type": "code",
      "execution_count": 13,
      "id": "99a57e71",
      "metadata": {
        "id": "99a57e71",
        "outputId": "4ee21e61-9921-42ff-ccb3-a7025164db45",
        "colab": {
          "base_uri": "https://localhost:8080/"
        }
      },
      "outputs": [
        {
          "output_type": "stream",
          "name": "stdout",
          "text": [
            "Lanczos Progress:10%\n",
            "Lanczos Progress:20%\n",
            "Lanczos Progress:30%\n",
            "Lanczos Progress:40%\n",
            "Lanczos Progress:50%\n",
            "Lanczos Progress:60%\n",
            "Lanczos Progress:70%\n",
            "Lanczos Progress:80%\n",
            "Lanczos Progress:90%\n",
            "Lanczos Progress:100%\n",
            "[-5.62958433e+00 -5.62958433e+00 -5.00187552e+00 -5.00187169e+00\n",
            " -4.92049446e+00 -4.91990963e+00 -4.65676459e+00 -4.41833955e+00\n",
            " -4.40146825e+00 -4.35673430e+00 -4.24574167e+00 -4.23715417e+00\n",
            " -4.19383498e+00 -4.06506905e+00 -4.06146660e+00 -3.93998216e+00\n",
            " -3.87644818e+00 -3.84781976e+00 -3.76918345e+00 -3.73640636e+00\n",
            " -3.68237172e+00 -3.61786426e+00 -3.55936290e+00 -3.45448356e+00\n",
            " -3.40201321e+00 -3.31783670e+00 -3.25986855e+00 -3.13494330e+00\n",
            " -3.05374497e+00 -2.95894377e+00 -2.87061426e+00 -2.78426008e+00\n",
            " -2.67061930e+00 -2.57533999e+00 -2.47435660e+00 -2.37469380e+00\n",
            " -2.26597855e+00 -2.14533828e+00 -2.05853106e+00 -1.93625022e+00\n",
            " -1.83619052e+00 -1.71208085e+00 -1.60874309e+00 -1.49140678e+00\n",
            " -1.37773200e+00 -1.26692788e+00 -1.14099962e+00 -1.03465722e+00\n",
            " -9.02216285e-01 -7.97306834e-01 -6.87943315e-01 -5.68099448e-01\n",
            " -4.51380947e-01 -3.26293210e-01 -2.27050837e-01 -1.04222618e-01\n",
            "  1.45468803e-03  1.20111205e-01  2.35194537e-01  3.39166484e-01\n",
            "  4.60422516e-01  5.65597642e-01  6.83660755e-01  7.82320541e-01\n",
            "  8.93067571e-01  9.97108079e-01  1.10044556e+00  1.17835292e+00\n",
            "  1.28917338e+00  1.38584009e+00  1.49250614e+00  1.58086199e+00\n",
            "  1.67344547e+00  1.77663473e+00  1.84618297e+00  1.93219149e+00\n",
            "  2.01305372e+00  2.08037910e+00  2.15929951e+00  2.23179496e+00\n",
            "  2.31656954e+00  2.37262800e+00  2.43488785e+00  2.50020869e+00\n",
            "  2.56167726e+00  2.59805991e+00  2.64787557e+00  2.68377675e+00\n",
            "  2.74598909e+00  2.79761926e+00  2.81595277e+00  2.84980530e+00\n",
            "  2.89658612e+00  2.90243068e+00  2.92874389e+00  2.97563133e+00\n",
            "  2.98205080e+00  3.04428349e+00  3.13545603e+00  3.24999997e+00]\n"
          ]
        }
      ],
      "source": [
        "T = Lanczos(H)\n",
        "Lambda = QR_iteration(T)\n",
        "eigs_lan = np.diag(Lambda)\n",
        "eigs_lan = np.sort(eigs_lan)\n",
        "print(eigs_lan)"
      ]
    },
    {
      "cell_type": "code",
      "execution_count": null,
      "id": "057d0cc9",
      "metadata": {
        "id": "057d0cc9"
      },
      "outputs": [],
      "source": []
    }
  ],
  "metadata": {
    "kernelspec": {
      "display_name": "vaspwfc",
      "language": "python",
      "name": "python3"
    },
    "language_info": {
      "codemirror_mode": {
        "name": "ipython",
        "version": 3
      },
      "file_extension": ".py",
      "mimetype": "text/x-python",
      "name": "python",
      "nbconvert_exporter": "python",
      "pygments_lexer": "ipython3",
      "version": "3.11.11"
    },
    "colab": {
      "provenance": []
    }
  },
  "nbformat": 4,
  "nbformat_minor": 5
}