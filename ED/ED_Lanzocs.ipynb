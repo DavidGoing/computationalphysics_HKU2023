{
  "cells": [
    {
      "cell_type": "markdown",
      "id": "1fc4c501",
      "metadata": {
        "id": "1fc4c501"
      },
      "source": [
        "# Exaact diagonalization study of Heisenberg chain by Lanczos algorithm"
      ]
    },
    {
      "cell_type": "code",
      "execution_count": 3,
      "id": "610b4d3d",
      "metadata": {
        "id": "610b4d3d"
      },
      "outputs": [],
      "source": [
        "import numpy as np\n",
        "import matplotlib.pyplot as plt\n",
        "import math"
      ]
    },
    {
      "cell_type": "code",
      "execution_count": 4,
      "id": "ab8d099f",
      "metadata": {
        "colab": {
          "base_uri": "https://localhost:8080/",
          "height": 35
        },
        "id": "ab8d099f",
        "outputId": "a538824a-ad38-4183-9d63-bd4f40917570"
      },
      "outputs": [
        {
          "output_type": "execute_result",
          "data": {
            "text/plain": [
              "'0000000000000'"
            ],
            "application/vnd.google.colaboratory.intrinsic+json": {
              "type": "string"
            }
          },
          "metadata": {},
          "execution_count": 4
        }
      ],
      "source": [
        "# set parameters\n",
        "N=13\n",
        "dimension=2**N\n",
        "#spin chain with all spin-down\n",
        "z='0'*N\n",
        "# initialize hamiltonian\n",
        "H=np.zeros((dimension,dimension))\n",
        "z"
      ]
    },
    {
      "cell_type": "code",
      "execution_count": 5,
      "id": "69f232e5",
      "metadata": {
        "id": "69f232e5"
      },
      "outputs": [],
      "source": [
        "# Matrix Construction\n",
        "for a in range(dimension):\n",
        "    state_chain=bin(a)[2:] # the first two should be omitted for this 'bin' function\n",
        "    l=len(state_chain)\n",
        "    state_chain=z[0:N-l]+state_chain # make the length equal to N\n",
        "    #print(state_chain)\n",
        "  # for PBC, we set i in range(N)\n",
        "  # for OBC, we set i in range(N-1)\n",
        "    for i in range(N):\n",
        "        j=np.mod(i+1,N)\n",
        " #       print(state_chain)\n",
        "        if state_chain[i]==state_chain[j]: # i=j only diagonal elements\n",
        "            H[a,a]+=0.25\n",
        "#            print('a:',a)\n",
        "        else:                              # else, the raising/lowering operators also have contributions\n",
        "            H[a,a]-=0.25\n",
        "            # then exchange i,j\n",
        "            element_i=state_chain[i]\n",
        "            element_j=state_chain[j]\n",
        "            #flip\n",
        "            if j==0:\n",
        "#here we are doing the concatenation of string (you can try other methods)\n",
        "#                    print(state_chain)\n",
        "                state_chain1=element_i+state_chain[1:N-1]+element_j\n",
        "            else:\n",
        "                state_chain1=state_chain[0:i]+element_j+element_i+state_chain[j+1:]\n",
        "#            print(state_chain)\n",
        "            b=int(state_chain1,2)\n",
        "#            print('a:',a)\n",
        "#            print('b:',b)\n",
        "            H[a,b]+=0.5"
      ]
    },
    {
      "cell_type": "markdown",
      "id": "9d857af4",
      "metadata": {
        "id": "9d857af4"
      },
      "source": [
        "# Lanczos\n",
        "https://en.wikipedia.org/wiki/Lanczos_algorithm"
      ]
    },
    {
      "cell_type": "code",
      "execution_count": null,
      "id": "086ab5b0",
      "metadata": {
        "id": "086ab5b0"
      },
      "outputs": [],
      "source": [
        "def random_orthogonal(V,j):\n",
        "    N = V.shape[0]\n",
        "    v = np.random.randn(N)+1j*np.random.randn(N)\n",
        "    for i in range(j):\n",
        "        u = V[:,i]\n",
        "        v -= np.vdot(u,v)*u/np.vdot(u,u)\n",
        "    v = v/np.linalg.norm(v)\n",
        "    return v"
      ]
    },
    {
      "cell_type": "code",
      "execution_count": null,
      "id": "2b7ab6c7",
      "metadata": {
        "id": "2b7ab6c7"
      },
      "outputs": [],
      "source": [
        "def Lanczos(Hamiltonian):\n",
        "    H = np.copy(Hamiltonian)\n",
        "    N = H.shape[0]\n",
        "    m = 100\n",
        "    H = 0.5*(H + H.conj().T)  # ensure Hermitian\n",
        "    V_matrix = np.zeros((N, m), dtype=complex)\n",
        "    T = np.zeros((m, m), dtype=complex)\n",
        "\n",
        "    # # scale-aware tolerance\n",
        "    # eps = np.finfo(float).eps\n",
        "    # Hnorm = np.linalg.norm(H, ord=2)\n",
        "    # tol = np.sqrt(eps) * (Hnorm if Hnorm>0 else 1.0)\n",
        "\n",
        "    # init\n",
        "    v = np.random.randn(N) + 1j*np.random.randn(N)\n",
        "    v /= np.linalg.norm(v)\n",
        "    V_matrix[:, 0] = v\n",
        "\n",
        "    w_prime = H @ v\n",
        "    alpha = np.vdot(v, w_prime)\n",
        "    w = w_prime - alpha * v\n",
        "    T[0, 0] = alpha\n",
        "\n",
        "    for i in range(1, m):\n",
        "        if (i+1)%(m//10) == 0:\n",
        "            percent = int((i+1)/m*100)\n",
        "            print(f\"Lanczos Progress:{percent}%\")\n",
        "        #print(i)\n",
        "        h = V_matrix[:, :i].conj().T @ w\n",
        "        w -= V_matrix[:, :i] @ h\n",
        "        beta = np.linalg.norm(w)\n",
        "        v_old = v\n",
        "        v = w / beta\n",
        "        if beta < 10e-6:\n",
        "            v = random_orthogonal(V_matrix,i)\n",
        "        else:\n",
        "            v = w / beta\n",
        "        V_matrix[:, i] = v\n",
        "        w_prime = H @ v - beta * v_old\n",
        "        alpha = np.vdot(v, w_prime)\n",
        "        w = w_prime - alpha * v\n",
        "\n",
        "        T[i, i] = alpha\n",
        "        T[i, i-1] = beta\n",
        "        T[i-1, i] = beta\n",
        "\n",
        "    return T\n",
        "\n",
        "\n"
      ]
    },
    {
      "cell_type": "markdown",
      "id": "03591eb3",
      "metadata": {
        "id": "03591eb3"
      },
      "source": [
        "# Implicitly Shifted QR Decomposition Method to solve the eigenvalues of tridiagonal matrix\n",
        "\n",
        "Algorithm 4 from the book: [Handbook of Linear Algebra by Hogben](https://math.ecnu.edu.cn/~jypan/Teaching/MC/refs/2014%20Symmetric%20Matrix%20Eigenvalue%20Techniques.pdf)\n",
        "\n",
        "\n"
      ]
    },
    {
      "cell_type": "code",
      "execution_count": 6,
      "id": "54d108c2",
      "metadata": {
        "id": "54d108c2"
      },
      "outputs": [],
      "source": [
        "# import numpy as np\n",
        "\n",
        "# def generate_symmetric_tridiagonal_matrix(n):\n",
        "\n",
        "#     main_diag = np.random.rand(n)\n",
        "#     off_diag = np.random.rand(n-1)\n",
        "#     T = np.zeros((n, n))\n",
        "#     np.fill_diagonal(T, main_diag)\n",
        "#     np.fill_diagonal(T[1:], off_diag)\n",
        "#     np.fill_diagonal(T[:, 1:], off_diag)\n",
        "\n",
        "#     return T\n"
      ]
    },
    {
      "cell_type": "code",
      "execution_count": 7,
      "id": "551b784f",
      "metadata": {
        "id": "551b784f"
      },
      "outputs": [],
      "source": [
        "def Givens(x,y):\n",
        "    G = np.zeros([2,2])\n",
        "    if y == 0:\n",
        "        c = 1\n",
        "        s = 0\n",
        "    elif x == 0:\n",
        "        c = 0\n",
        "        s = np.sign(y)\n",
        "    else:\n",
        "        c = abs(x)/math.sqrt(abs(x)**2+abs(y)**2)\n",
        "        s = x/abs(x)*y/math.sqrt(abs(x)**2+abs(y)**2)\n",
        "    G[0,0] = c\n",
        "    G[1,1] = c\n",
        "    G[0,1] = s\n",
        "    G[1,0] = -s\n",
        "    return G\n",
        "\n",
        "def QR_iteration(T_matrix):\n",
        "    T = np.copy(T_matrix)\n",
        "    T = np.real(T)\n",
        "    epsilon = 10e-10\n",
        "    if T.shape == (1,1):\n",
        "        return T\n",
        "    n_itr = 0\n",
        "\n",
        "    while True:\n",
        "        n_itr += 1\n",
        "        N = T.shape[0]\n",
        "        tau = (T[N-2,N-2]-T[N-1,N-1])/2\n",
        "        mu = T[N-1,N-1]-T[N-1,N-2]**2/(tau+np.sign(tau)*np.sqrt(tau**2+T[N-1,N-2]**2))\n",
        "\n",
        "        for i in range(0,N-1):\n",
        "            if i==0:\n",
        "                G = Givens(T[0,0]-mu,T[1,0])\n",
        "            else:\n",
        "                G = Givens(T[i,i-1],T[i+1,i-1])\n",
        "\n",
        "            iL = max(i-1,0)\n",
        "            iR = min(N,i+3)\n",
        "\n",
        "            T[i:i+2,iL:iR] = G@T[i:i+2,iL:iR]\n",
        "            T[iL:iR,i:i+2] = T[iL:iR,i:i+2]@G.T\n",
        "\n",
        "            if abs(T[i,i+1])**2 <= epsilon**2*abs(T[i,i]*T[i+1,i+1]):\n",
        "                #print(n_itr)\n",
        "                T[i,i+1] = T[i+1,i] = 0.0\n",
        "                T[0:i+1,0:i+1] = QR_iteration(T[0:i+1,0:i+1])\n",
        "                T[i+1:N,i+1:N] = QR_iteration(T[i+1:N,i+1:N])\n",
        "                return T\n",
        "\n",
        ""
      ]
    },
    {
      "cell_type": "code",
      "execution_count": 8,
      "id": "dd785e86",
      "metadata": {
        "id": "dd785e86"
      },
      "outputs": [],
      "source": [
        "# N_ = 1000\n",
        "# A = np.random.randn(N_, N_) + 1j * np.random.randn(N_, N_)\n",
        "# H = (A + A.conj().T) / 2"
      ]
    },
    {
      "cell_type": "code",
      "execution_count": null,
      "id": "e26ed7c0",
      "metadata": {
        "id": "e26ed7c0",
        "outputId": "86368e9f-0ce0-4e84-a495-2d130f31d4e4"
      },
      "outputs": [
        {
          "name": "stdout",
          "output_type": "stream",
          "text": [
            "[-5.62958433 -5.62958433 -5.62958433 ...  3.25        3.25\n",
            "  3.25      ]\n"
          ]
        }
      ],
      "source": [
        "eig_value_H=np.real(np.linalg.eig(H)[0])\n",
        "eig_value_H = np.sort(eig_value_H)\n",
        "print(eig_value_H)"
      ]
    },
    {
      "cell_type": "code",
      "execution_count": null,
      "id": "99a57e71",
      "metadata": {
        "id": "99a57e71",
        "outputId": "3b19812a-b4a5-4c27-fb01-3926a7adcc61"
      },
      "outputs": [
        {
          "name": "stdout",
          "output_type": "stream",
          "text": [
            "Lanczos Progress:10%\n",
            "Lanczos Progress:20%\n",
            "Lanczos Progress:30%\n",
            "Lanczos Progress:40%\n",
            "Lanczos Progress:50%\n",
            "Lanczos Progress:60%\n",
            "Lanczos Progress:70%\n",
            "Lanczos Progress:80%\n",
            "Lanczos Progress:90%\n",
            "Lanczos Progress:100%\n",
            "[-5.62958433e+00 -5.62958433e+00 -5.00187552e+00 -5.00187543e+00\n",
            " -4.92049447e+00 -4.91599812e+00 -4.65676458e+00 -4.41833955e+00\n",
            " -4.40146825e+00 -4.35673429e+00 -4.24574167e+00 -4.23715427e+00\n",
            " -4.19383491e+00 -4.06506892e+00 -4.06146668e+00 -3.93997906e+00\n",
            " -3.87610964e+00 -3.84726584e+00 -3.77203089e+00 -3.74228803e+00\n",
            " -3.70440401e+00 -3.62132376e+00 -3.56221464e+00 -3.46159701e+00\n",
            " -3.40340101e+00 -3.31880072e+00 -3.25987643e+00 -3.13013292e+00\n",
            " -3.05731735e+00 -2.95634787e+00 -2.87398493e+00 -2.78372290e+00\n",
            " -2.67499168e+00 -2.58195434e+00 -2.46809723e+00 -2.37336138e+00\n",
            " -2.26500048e+00 -2.14325699e+00 -2.06220416e+00 -1.93785925e+00\n",
            " -1.83693430e+00 -1.71943491e+00 -1.60859033e+00 -1.50286732e+00\n",
            " -1.37540867e+00 -1.26089480e+00 -1.14113485e+00 -1.03321166e+00\n",
            " -9.02173054e-01 -7.97816178e-01 -6.85527346e-01 -5.69009643e-01\n",
            " -4.53155532e-01 -3.24734462e-01 -2.27089589e-01 -1.04877877e-01\n",
            " -7.32642755e-04  1.15392420e-01  2.35241936e-01  3.40829141e-01\n",
            "  4.59486572e-01  5.62078229e-01  6.81382290e-01  7.82133626e-01\n",
            "  8.91950866e-01  9.97752019e-01  1.09574901e+00  1.17687084e+00\n",
            "  1.28638557e+00  1.38308321e+00  1.49241774e+00  1.58237122e+00\n",
            "  1.67299154e+00  1.77594346e+00  1.83688105e+00  1.93075824e+00\n",
            "  2.01084880e+00  2.07859654e+00  2.16188891e+00  2.23675983e+00\n",
            "  2.31658014e+00  2.37238988e+00  2.43685800e+00  2.50133200e+00\n",
            "  2.56365928e+00  2.59927981e+00  2.65344328e+00  2.68683169e+00\n",
            "  2.75086981e+00  2.79544041e+00  2.81592290e+00  2.85000496e+00\n",
            "  2.89675020e+00  2.90242979e+00  2.92874459e+00  2.97563133e+00\n",
            "  2.98205081e+00  3.04428349e+00  3.13545603e+00  3.25000000e+00]\n"
          ]
        }
      ],
      "source": [
        "T = Lanczos(H)\n",
        "Lambda = QR_iteration(T)\n",
        "eigs_lan = np.diag(Lambda)\n",
        "eigs_lan = np.sort(eigs_lan)\n",
        "print(eigs_lan)"
      ]
    },
    {
      "cell_type": "code",
      "execution_count": null,
      "id": "057d0cc9",
      "metadata": {
        "id": "057d0cc9"
      },
      "outputs": [],
      "source": []
    }
  ],
  "metadata": {
    "kernelspec": {
      "display_name": "vaspwfc",
      "language": "python",
      "name": "python3"
    },
    "language_info": {
      "codemirror_mode": {
        "name": "ipython",
        "version": 3
      },
      "file_extension": ".py",
      "mimetype": "text/x-python",
      "name": "python",
      "nbconvert_exporter": "python",
      "pygments_lexer": "ipython3",
      "version": "3.11.11"
    },
    "colab": {
      "provenance": []
    }
  },
  "nbformat": 4,
  "nbformat_minor": 5
}