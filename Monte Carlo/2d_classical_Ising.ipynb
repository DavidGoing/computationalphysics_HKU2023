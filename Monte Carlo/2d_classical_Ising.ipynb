{
  "cells": [
    {
      "cell_type": "markdown",
      "id": "28f8ca90",
      "metadata": {
        "id": "28f8ca90"
      },
      "source": [
        "# Classical Ising model\n",
        "This notebook demonstrates the Monte Carlo study on the 2-d classical Ising model. \n",
        "\n",
        "Last modified: Menghan Song and Ting-Tung Wang, Nov 2022."
      ]
    },
    {
      "cell_type": "markdown",
      "id": "4d418021",
      "metadata": {
        "id": "4d418021"
      },
      "source": [
        "## 1. Introduction"
      ]
    },
    {
      "cell_type": "markdown",
      "source": [
        "### 1.1 Hamiltonian"
      ],
      "metadata": {
        "id": "qv5W3UebhYe3"
      },
      "id": "qv5W3UebhYe3"
    },
    {
      "cell_type": "markdown",
      "id": "1f3fd8f7",
      "metadata": {
        "id": "1f3fd8f7"
      },
      "source": [
        "Classical Ising model describe a system consist of certain configuration of spins, where only the nearest neighbor have nonzero interaction. The Hamiltonian (Energy) of the classical Ising model is given by, \n",
        "$$\n",
        " H(\\{\\sigma\\})=-J\\sum_{\\langle i,j\\rangle} \\sigma_i\\sigma_j\n",
        "$$\n",
        "\n",
        "The angle bracket under the first summation indicates that only the nearest neighbor $i$ and $j$ are considered. $\\sigma_i $ and $ \\sigma_j$ only take two values, +1 and -1, indicating a spin-1/2 partivle with two $S_z$ components (up and down).\n",
        "\n",
        "$J>0$ implies that spins tend to stays in the same direction, so as to achieve a lower energy, in which case the system is like a ferromagnetic material. By contrast, $J<0$ represents anti-ferromagnetic model.\n",
        "\n"
      ]
    },
    {
      "cell_type": "markdown",
      "source": [
        "### 1.2 Partition function"
      ],
      "metadata": {
        "id": "ZjqzMBnihfv_"
      },
      "id": "ZjqzMBnihfv_"
    },
    {
      "cell_type": "markdown",
      "source": [
        "In the two dimension classical Ising model, we assume there are some spin live on a square lattice with length $L$, then the total number of spins would be $N=L^2$.  Because of nearest interaction and periodic boundary condition, there are totally $2N$ interaction, or bond, on the lattice.\n",
        "\n",
        "Consider the partition function:\n",
        "$$\n",
        "Z=\\sum_{\\{\\sigma\\}}e^{-\\beta E\\{\\sigma\\}}\n",
        "$$\n",
        "where $\\beta$ is the thermaldynamic beta $\\beta=\\frac{1}{k_BT}$, with $k_B$ being the Boltzmann constant and $T$ being the temperature.  In the following parts, we assume $k_B=1$ and $\\beta=\\frac{1}{T}$ simply is the inverse of temperature.  $\\beta$ and $T$ will be used interchangeably.\n",
        "\n",
        "The partition function shows the weighting of each configuration and the probability of such configuration's occurring.\n",
        "$$\n",
        "P(\\{\\sigma\\})=\\frac{1}{Z}e^{-\\beta E\\{\\sigma\\}}\n",
        "$$\n",
        "where $Z$ acts as a normalization constant, making sure that the sum of probability of all the configurations equals to 1.  It is obvious that the weighting of any configuration has a negative correlation with the total energy of that configuration, in other words, a system is more likely to stay at lower energy rather than at higher one."
      ],
      "metadata": {
        "id": "1jDSSaUJg69-"
      },
      "id": "1jDSSaUJg69-"
    },
    {
      "cell_type": "markdown",
      "source": [
        "## 2. Monte Carlo Method"
      ],
      "metadata": {
        "id": "qic08dAShdC2"
      },
      "id": "qic08dAShdC2"
    },
    {
      "cell_type": "markdown",
      "source": [
        "Consider a large ensemble of configurations of a certain system, $C=C_1,C_2,...,C_N$. A stochastic process is designed such that the current configuration $C_k$ is generated from the previous one $C_{k-1}$ by making some changes. This sequence of configurations is called a Markov chain. With a given stable distribution $W(C)$, it is our mission to find out the transition probability, $P(C_i\\to C_j)$. Given an ensemble distributed according to $W(C)$, one can derive the ***detailed balanced condition***,\n",
        "$$\n",
        "\\frac{P(C_i\\to C_j)}{P(C_j\\to C_i)}=\\frac{W(C_j)}{W(C_i)}.\n",
        "$$\n",
        "\n",
        "\n",
        "With well-defined transition probabilities and distribution $W(\\{\\sigma\\})=\\frac{1}{Z}e^{-\\beta E\\{\\sigma\\}}$, one can generate configurations along a Markov chain. The expectation value of a certarin measurable $Q$ is,\n",
        "$$\n",
        "\\langle Q⟩=\\sum_{\\sigma}W(\\sigma)Q(\\sigma) = \\frac{1}{N}\\sum_{i=1}^{N}Q(C_i),\n",
        "$$\n",
        "where $N$ is the total number of sampling we do."
      ],
      "metadata": {
        "id": "V7LwViWqjUv3"
      },
      "id": "V7LwViWqjUv3"
    },
    {
      "cell_type": "markdown",
      "source": [
        "## 3. Algorithms"
      ],
      "metadata": {
        "id": "NTQrwMKmmbEf"
      },
      "id": "NTQrwMKmmbEf"
    },
    {
      "cell_type": "markdown",
      "source": [
        "### 3.1 The Metropolis algorithm"
      ],
      "metadata": {
        "id": "vfuD5NyZmg3W"
      },
      "id": "vfuD5NyZmg3W"
    },
    {
      "cell_type": "markdown",
      "source": [
        "Metropolis algorithm is also known as local update. Recall the detailed balanced condition \n",
        "$$\n",
        "\\frac{P(C_i\\to C_j)}{P(C_j\\to C_i)}=\\frac{W(C_j)}{W(C_i)}.\n",
        "$$\n",
        "We further write $P(C_i\\to C_j)=P^{choose}(C_i\\to C_j)P^{accept}(C_i\\to C_j)$. In Metropolis algorithm, $P^{choose}(C_i\\to C_j)$ is a constant and $P^{accept}(C_i\\to C_j) = \\min\\left \\{ \\frac{W(C_j)}{W(C_i},1 \\right \\}$. This piece of choice satisefies the detailed balanced condition and we can implement this as follows.\n",
        "1. Initialize the lattice $\\left \\{ S_i\\right \\}$ (randomly generate a configuration among {±1, ±1, ..., ±1} as the initial configuration). Set the lattice size L and the temperature T.\n",
        "2. Randomly choose a spin. Consider flipping the spin $S_i$ to $-S_i$, calculated the change of energy $\\Delta E$ of the system.\n",
        "3. The flip is accepted with the probability $P^{accept}$ shown above. In detail, if the flip lowers the energy of the system i.e., $\\Delta E<0$, we always accept the flip. Otherwise, flip the spin with $P=e^{-\\beta \\Delta E}$.\n",
        "4. Consider $L × L$ times of step 2-3 as one Monte Carlo iteration and monitor the behavior of physical observables.\n",
        "5. Repeat step 2-4 until the physical observable converges after certain iterations. This step is to make sure the system is fully thermalized. \n",
        "6. Repeat Monte Carlo steps and record the physical observables each step.\n",
        "\n"
      ],
      "metadata": {
        "id": "vA3GsylOmg0n"
      },
      "id": "vA3GsylOmg0n"
    },
    {
      "cell_type": "markdown",
      "source": [
        "### 3.2 The Wolff algorithm"
      ],
      "metadata": {
        "id": "Fl4V6nbcmgyH"
      },
      "id": "Fl4V6nbcmgyH"
    },
    {
      "cell_type": "markdown",
      "source": [
        "The Wolff algorithm is also named as cluster update. It is an analogy to the real physical system near the critical point where spins seem to form clusters. In the algorithm, spins form a cluster with some probability and the entire cluster is flipped with $P^{accept}=1$.\n",
        "The steps are below:\n",
        "1. Initialize the lattice $\\left \\{ S_i\\right \\}$ (randomly generate a configuration among {±1, ±1, ..., ±1} as the initial configuration). Set the lattice size L and the temperature T.\n",
        "2. Start the Monte Carlo step, a spin $S_i$ is selected at random.\n",
        "3. All its neighbors $S_j$s, are added to the cluster with a probability $P=1-e^{-2\\beta J}$,provided $S_i$ and $S_j$ are parallel and the bond between them has not been considered before.\n",
        "4. For the newly added spin, repeat the step 3 until no new spins are added into the cluster. Flip all the spins in the cluster, which ends one Monte Carlo step. \n",
        "5. Repeat step 2-4 until the physical observable converges after certain iterations. \n",
        "6. Repeat Monte Carlo steps and record the physical observables each step.  \n"
      ],
      "metadata": {
        "id": "AzN-KbmGmgvn"
      },
      "id": "AzN-KbmGmgvn"
    },
    {
      "cell_type": "code",
      "source": [
        "import numpy as np\n",
        "import matplotlib.pyplot as plt\n",
        "from numpy import random"
      ],
      "metadata": {
        "id": "Aof2hda3GV3x"
      },
      "id": "Aof2hda3GV3x",
      "execution_count": 1,
      "outputs": []
    },
    {
      "cell_type": "code",
      "source": [
        "def initialize(L):\n",
        "    neighbor=np.zeros([d,4], dtype=int)\n",
        "    for i in range(d):\n",
        "        x=np.floor(i/L)\n",
        "        y=i%L\n",
        "        neighbor[i,0]=y*L+(x+1)%L      #right\n",
        "        neighbor[i,1]=y*L+(x-1)%L      #left\n",
        "        neighbor[i,2]=((y+1)%L)*L+x    #up\n",
        "        neighbor[i,3]=((y-1)%L)*L+x    #down\n",
        "    h=random.randint(2,size=(d))\n",
        "    return h, neighbor"
      ],
      "metadata": {
        "id": "L77J-rMhGV1P"
      },
      "id": "L77J-rMhGV1P",
      "execution_count": 2,
      "outputs": []
    },
    {
      "cell_type": "code",
      "source": [
        "def update_Metropolis(h):\n",
        "    for site in range(d):\n",
        "        n=0\n",
        "        for i in range(4):\n",
        "            if h[site]==h[neighbor[site,i]]:\n",
        "                n+=1\n",
        "        if random.random()<P[n]:\n",
        "            h[site]=1-h[site]\n",
        "    return h"
      ],
      "metadata": {
        "id": "Pj5t1YhYGVyv"
      },
      "id": "Pj5t1YhYGVyv",
      "execution_count": 3,
      "outputs": []
    },
    {
      "cell_type": "code",
      "source": [
        "def measure(h):\n",
        "    mz=0\n",
        "    for site in range(d):\n",
        "        mz+=h[site]*2-1\n",
        "    mz=abs(mz/d)\n",
        "    mz2=mz**2\n",
        "    return mz, mz2"
      ],
      "metadata": {
        "id": "1QvfnbHhGVwQ"
      },
      "id": "1QvfnbHhGVwQ",
      "execution_count": 4,
      "outputs": []
    },
    {
      "cell_type": "code",
      "source": [
        "Nt=int(1e4)\n",
        "Nm=int(3e4)\n",
        "I=10\n",
        "J=1\n",
        "L_list=[4, 8, 16]\n",
        "T_list=np.arange(0.1,3.1,0.2)\n",
        "T_list=-np.sort(-T_list)    #reversed sort\n",
        "mz_mean=np.zeros([np.size(L_list), np.size(T_list)])\n",
        "mz2_mean=np.zeros([np.size(L_list), np.size(T_list)])\n"
      ],
      "metadata": {
        "id": "GrKtRkHDGVtf"
      },
      "id": "GrKtRkHDGVtf",
      "execution_count": 5,
      "outputs": []
    },
    {
      "cell_type": "code",
      "source": [
        "for i, L in enumerate(L_list):\n",
        "    d=L**2\n",
        "    h, neighbor=initialize(L)\n",
        "    for j, T in enumerate(T_list):\n",
        "        P=[]\n",
        "        for n in range(5):\n",
        "            dE=(4*n-8)*J\n",
        "            P.append(np.exp(-dE/T))\n",
        "        mz_list=[]\n",
        "        mz2_list=[]\n",
        "        if j==0:\n",
        "            for k in range(Nt):\n",
        "                h=update_Metropolis(h)\n",
        "        for k in range(Nm):\n",
        "            h=update_Metropolis(h)\n",
        "            if k%I==0:\n",
        "                mz_temp,mz2_temp=measure(h)\n",
        "                mz_list.append(mz_temp)\n",
        "                mz2_list.append(mz2_temp)\n",
        "        mz_mean[i,j]=np.mean(mz_list)\n",
        "        mz2_mean[i,j]=np.mean(mz2_list)"
      ],
      "metadata": {
        "id": "l1PigMHEGVqv",
        "colab": {
          "base_uri": "https://localhost:8080/",
          "height": 365
        },
        "outputId": "a63c4e68-ba65-44c6-a338-0828dce03f69"
      },
      "id": "l1PigMHEGVqv",
      "execution_count": 6,
      "outputs": [
        {
          "output_type": "error",
          "ename": "KeyboardInterrupt",
          "evalue": "ignored",
          "traceback": [
            "\u001b[0;31m---------------------------------------------------------------------------\u001b[0m",
            "\u001b[0;31mKeyboardInterrupt\u001b[0m                         Traceback (most recent call last)",
            "\u001b[0;32m<ipython-input-6-9f8825932bf2>\u001b[0m in \u001b[0;36m<module>\u001b[0;34m\u001b[0m\n\u001b[1;32m     13\u001b[0m                 \u001b[0mh\u001b[0m\u001b[0;34m=\u001b[0m\u001b[0mupdate_Metropolis\u001b[0m\u001b[0;34m(\u001b[0m\u001b[0mh\u001b[0m\u001b[0;34m)\u001b[0m\u001b[0;34m\u001b[0m\u001b[0;34m\u001b[0m\u001b[0m\n\u001b[1;32m     14\u001b[0m         \u001b[0;32mfor\u001b[0m \u001b[0mk\u001b[0m \u001b[0;32min\u001b[0m \u001b[0mrange\u001b[0m\u001b[0;34m(\u001b[0m\u001b[0mNm\u001b[0m\u001b[0;34m)\u001b[0m\u001b[0;34m:\u001b[0m\u001b[0;34m\u001b[0m\u001b[0;34m\u001b[0m\u001b[0m\n\u001b[0;32m---> 15\u001b[0;31m             \u001b[0mh\u001b[0m\u001b[0;34m=\u001b[0m\u001b[0mupdate_Metropolis\u001b[0m\u001b[0;34m(\u001b[0m\u001b[0mh\u001b[0m\u001b[0;34m)\u001b[0m\u001b[0;34m\u001b[0m\u001b[0;34m\u001b[0m\u001b[0m\n\u001b[0m\u001b[1;32m     16\u001b[0m             \u001b[0;32mif\u001b[0m \u001b[0mk\u001b[0m\u001b[0;34m%\u001b[0m\u001b[0mI\u001b[0m\u001b[0;34m==\u001b[0m\u001b[0;36m0\u001b[0m\u001b[0;34m:\u001b[0m\u001b[0;34m\u001b[0m\u001b[0;34m\u001b[0m\u001b[0m\n\u001b[1;32m     17\u001b[0m                 \u001b[0mmz_temp\u001b[0m\u001b[0;34m,\u001b[0m\u001b[0mmz2_temp\u001b[0m\u001b[0;34m=\u001b[0m\u001b[0mmeasure\u001b[0m\u001b[0;34m(\u001b[0m\u001b[0mh\u001b[0m\u001b[0;34m)\u001b[0m\u001b[0;34m\u001b[0m\u001b[0;34m\u001b[0m\u001b[0m\n",
            "\u001b[0;32m<ipython-input-3-9feb6761aede>\u001b[0m in \u001b[0;36mupdate_Metropolis\u001b[0;34m(h)\u001b[0m\n\u001b[1;32m      3\u001b[0m         \u001b[0mn\u001b[0m\u001b[0;34m=\u001b[0m\u001b[0;36m0\u001b[0m\u001b[0;34m\u001b[0m\u001b[0;34m\u001b[0m\u001b[0m\n\u001b[1;32m      4\u001b[0m         \u001b[0;32mfor\u001b[0m \u001b[0mi\u001b[0m \u001b[0;32min\u001b[0m \u001b[0mrange\u001b[0m\u001b[0;34m(\u001b[0m\u001b[0;36m4\u001b[0m\u001b[0;34m)\u001b[0m\u001b[0;34m:\u001b[0m\u001b[0;34m\u001b[0m\u001b[0;34m\u001b[0m\u001b[0m\n\u001b[0;32m----> 5\u001b[0;31m             \u001b[0;32mif\u001b[0m \u001b[0mh\u001b[0m\u001b[0;34m[\u001b[0m\u001b[0msite\u001b[0m\u001b[0;34m]\u001b[0m\u001b[0;34m==\u001b[0m\u001b[0mh\u001b[0m\u001b[0;34m[\u001b[0m\u001b[0mneighbor\u001b[0m\u001b[0;34m[\u001b[0m\u001b[0msite\u001b[0m\u001b[0;34m,\u001b[0m\u001b[0mi\u001b[0m\u001b[0;34m]\u001b[0m\u001b[0;34m]\u001b[0m\u001b[0;34m:\u001b[0m\u001b[0;34m\u001b[0m\u001b[0;34m\u001b[0m\u001b[0m\n\u001b[0m\u001b[1;32m      6\u001b[0m                 \u001b[0mn\u001b[0m\u001b[0;34m+=\u001b[0m\u001b[0;36m1\u001b[0m\u001b[0;34m\u001b[0m\u001b[0;34m\u001b[0m\u001b[0m\n\u001b[1;32m      7\u001b[0m         \u001b[0;32mif\u001b[0m \u001b[0mrandom\u001b[0m\u001b[0;34m.\u001b[0m\u001b[0mrandom\u001b[0m\u001b[0;34m(\u001b[0m\u001b[0;34m)\u001b[0m\u001b[0;34m<\u001b[0m\u001b[0mP\u001b[0m\u001b[0;34m[\u001b[0m\u001b[0mn\u001b[0m\u001b[0;34m]\u001b[0m\u001b[0;34m:\u001b[0m\u001b[0;34m\u001b[0m\u001b[0;34m\u001b[0m\u001b[0m\n",
            "\u001b[0;31mKeyboardInterrupt\u001b[0m: "
          ]
        }
      ]
    },
    {
      "cell_type": "code",
      "source": [
        "for i in range(np.size(L_list)):\n",
        "    plt.plot(T_list,mz_mean[i,:],marker=\"o\",label=\"L=\"+str(L_list[i]))\n",
        "plt.vlines(2.269,0,1,linestyles='-.',label=\"$T_c=2.269$\")\n",
        "plt.legend(frameon=False,fancybox=True,numpoints=1,prop = {'size':15,'family':'Times New Roman'})\n",
        "plt.xlabel(\"T\",fontsize=18,fontname='Times New Roman')\n",
        "plt.ylabel(\"$|m|$\",fontsize=18,fontname='Times New Roman')"
      ],
      "metadata": {
        "id": "S_riBBiTGVZw",
        "outputId": "a3fbb7f4-78d6-4502-a79c-80efa3bc18cb",
        "colab": {
          "base_uri": "https://localhost:8080/",
          "height": 304
        }
      },
      "id": "S_riBBiTGVZw",
      "execution_count": null,
      "outputs": [
        {
          "output_type": "execute_result",
          "data": {
            "text/plain": [
              "Text(0, 0.5, '$|m|$')"
            ]
          },
          "metadata": {},
          "execution_count": 27
        },
        {
          "output_type": "stream",
          "name": "stderr",
          "text": [
            "WARNING:matplotlib.font_manager:findfont: Font family ['Times New Roman'] not found. Falling back to DejaVu Sans.\n"
          ]
        },
        {
          "output_type": "display_data",
          "data": {
            "text/plain": [
              "<Figure size 432x288 with 1 Axes>"
            ],
            "image/png": "[encoded data removed]"
          },
          "metadata": {
            "needs_background": "light"
          }
        }
      ]
    },
    {
      "cell_type": "code",
      "source": [
        "def update_Wolff(h):\n",
        "    notvisit=list(range(d))\n",
        "    stack=[random.randint(d)]\n",
        "    notvisit.remove(stack[0])\n",
        "    while not not stack:\n",
        "        seed=stack[0]\n",
        "        stack.remove(seed)\n",
        "        for i in range(4):\n",
        "            if neighbor[seed,i] in notvisit and h[seed]==h[neighbor[seed,i]] and random.random()<bprob:\n",
        "                stack.append(neighbor[seed,i])\n",
        "                notvisit.remove(neighbor[seed,i])\n",
        "        h[seed]=1- h[seed]\n",
        "    return h"
      ],
      "metadata": {
        "id": "5YmMPo1sPEf3"
      },
      "id": "5YmMPo1sPEf3",
      "execution_count": null,
      "outputs": []
    },
    {
      "cell_type": "code",
      "source": [
        "Nt=int(1e4)\n",
        "Nm=int(2e4)\n",
        "I=5\n",
        "L_list=[4, 6, 8, 10, 12]\n",
        "T_list=np.arange(0.1,3.1,0.2)\n",
        "T_list=-np.sort(-T_list)    #reversed sort\n",
        "mz_mean=np.zeros([np.size(L_list), np.size(T_list)])\n",
        "mz2_mean=np.zeros([np.size(L_list), np.size(T_list)])\n",
        "\n",
        "for i, L in enumerate(L_list):\n",
        "    print(\"L=\",L)\n",
        "    d=L**2\n",
        "    h, neighbor=initialize(L)\n",
        "    for j, T in enumerate(T_list):\n",
        "        bprob=1-np.exp(-2*J/T)\n",
        "        mz_list=[]\n",
        "        mz2_list=[]\n",
        "        if j==0:\n",
        "            for k in range(Nt):\n",
        "                h=update_Wolff(h)\n",
        "        for k in range(Nm):\n",
        "            h=update_Wolff(h)\n",
        "            if k%I==0:\n",
        "                mz_temp,mz2_temp=measure(h)\n",
        "                mz_list.append(mz_temp)\n",
        "                mz2_list.append(mz2_temp)\n",
        "        mz_mean[i,j]=np.mean(mz_list)\n",
        "        mz2_mean[i,j]=np.mean(mz2_list)"
      ],
      "metadata": {
        "id": "ngfaAZMWPEaX",
        "outputId": "b2dfad99-3999-4a5f-ee73-1f92643ebe3f",
        "colab": {
          "base_uri": "https://localhost:8080/"
        }
      },
      "id": "ngfaAZMWPEaX",
      "execution_count": null,
      "outputs": [
        {
          "output_type": "stream",
          "name": "stdout",
          "text": [
            "L= 4\n",
            "L= 6\n",
            "L= 8\n",
            "L= 10\n",
            "L= 12\n"
          ]
        }
      ]
    },
    {
      "cell_type": "code",
      "source": [
        "for i in range(np.size(L_list)):\n",
        "    plt.plot(T_list,mz_mean[i,:],marker=\"o\",label=\"L=\"+str(L_list[i]))\n",
        "plt.vlines(2.269,0,1,linestyles='-.',label=\"$T_c=2.269$\")\n",
        "plt.legend(frameon=False,fancybox=True,numpoints=1,prop = {'size':15,'family':'Times New Roman'})\n",
        "plt.xlabel(\"T\",fontsize=18,fontname='Times New Roman')\n",
        "plt.ylabel(\"$|m|$\",fontsize=18,fontname='Times New Roman')\n",
        "plt.title(\"Wolff\")"
      ],
      "metadata": {
        "id": "17r7bzu0PETn",
        "outputId": "3e806ea4-096f-495d-bad6-6ebeeae6c97e",
        "colab": {
          "base_uri": "https://localhost:8080/",
          "height": 320
        }
      },
      "id": "17r7bzu0PETn",
      "execution_count": null,
      "outputs": [
        {
          "output_type": "execute_result",
          "data": {
            "text/plain": [
              "Text(0.5, 1.0, 'Wolff')"
            ]
          },
          "metadata": {},
          "execution_count": 31
        },
        {
          "output_type": "display_data",
          "data": {
            "text/plain": [
              "<Figure size 432x288 with 1 Axes>"
            ],
            "image/png": "[encoded data removed]"
          },
          "metadata": {
            "needs_background": "light"
          }
        }
      ]
    },
    {
      "cell_type": "markdown",
      "source": [
        "## 4. Fintie size scaling"
      ],
      "metadata": {
        "id": "qIiSpOcKuPSG"
      },
      "id": "qIiSpOcKuPSG"
    },
    {
      "cell_type": "markdown",
      "source": [
        "In principle, for a system in thermal dynamic limit (system size tends to infinity) with continuous phase transition, the order parameter vanishes at one side of the critical point. Also, the second order derivatives of thermal dynamic functions, such as heat capacity, susceptibility have a singularity (diverge to infinity) at the critical point.  \n",
        "\n",
        "For Ising model, the order parameter, $\\langle |m|\\rangle$ is zero at $T>T_c$ if we consider a system with infinite size. However, for a finite system size, $\\langle |m|\\rangle$ will not vanish, for instead it remains at a nonzero constant for $T>T_c$. Also, the heat capacity and the susceptibility will not diverge to infinity but have a finite peak near $T_c$. Finite-size scaling theory tells that for finite-size systems, the physical measurables depend not only on the temperature but also on the system sizes. For example, the order parameter $\\langle |m|\\rangle$ scales as,\n",
        "$$\n",
        "\\langle |m|\\rangle(t,L)=L^{-\\beta/\\nu}g(tL^{1/\\nu})\n",
        "$$\n",
        "$$\n",
        "\\langle |m|\\rangle(t,L)L^{\\beta/\\nu}=g(tL^{1/\\nu})\n",
        "$$\n",
        "where $t=\\frac{|T-T_c|}{T_c}$, $\\beta = 1/8$ and $\\nu=1$ are two criticle exponents for 2-d Ising model. If $T=T_c, t=0$, the RHS is $g(0)$ independent of the system size $L$. Therefore, if we plot \\langle |m|\\rangle(t,L)L^{\\beta/\\nu} against the temperature for different $L$, curves for different $L$ must intersect as a point $T=T_c$."
      ],
      "metadata": {
        "id": "98MejYN6uPI3"
      },
      "id": "98MejYN6uPI3"
    },
    {
      "cell_type": "code",
      "source": [
        "for i in range(np.size(L_list)):\n",
        "    plt.plot(T_list,mz_mean[i,:]*L_list[i]**(1/8),marker=\"o\",label=\"L=\"+str(L_list[i]))\n",
        "\n",
        "plt.vlines(2.269,0,1.5,linestyles='-.',label=\"$T_c=2.269$\")\n",
        "plt.legend(frameon=False,fancybox=True,numpoints=1,prop = {'size':15,'family':'Times New Roman'})\n",
        "plt.xlabel(\"T\",fontsize=18,fontname='Times New Roman')\n",
        "plt.ylabel(r\"$|m|L^{\\beta/\\nu}$\",fontsize=18,fontname='Times New Roman')\n",
        "plt.title(\"Data collapse\")\n"
      ],
      "metadata": {
        "id": "GIwwKVWolGDf",
        "outputId": "896a2a3f-8cac-4876-9b5a-ac84aa537323",
        "colab": {
          "base_uri": "https://localhost:8080/",
          "height": 320
        }
      },
      "id": "GIwwKVWolGDf",
      "execution_count": null,
      "outputs": [
        {
          "output_type": "execute_result",
          "data": {
            "text/plain": [
              "Text(0.5, 1.0, 'Data collapse')"
            ]
          },
          "metadata": {},
          "execution_count": 36
        },
        {
          "output_type": "display_data",
          "data": {
            "text/plain": [
              "<Figure size 432x288 with 1 Axes>"
            ],
            "image/png": "[encoded data removed]"
          },
          "metadata": {
            "needs_background": "light"
          }
        }
      ]
    },
    {
      "cell_type": "code",
      "source": [
        "for i in range(np.size(L_list)):\n",
        "    plt.plot((T_list-2.269)*L_list[i],mz_mean[i,:]*L_list[i]**(1/8),marker=\"o\",label=\"L=\"+str(L_list[i]))\n",
        "\n",
        "plt.vlines(0,0,1.5,linestyles='-.',label=\"$T_c$\")\n",
        "plt.legend(frameon=False,fancybox=True,numpoints=1,prop = {'size':15,'family':'Times New Roman'})\n",
        "plt.xlabel(r\"$(T-T_c)L^{1/\\nu}$\",fontsize=18,fontname='Times New Roman')\n",
        "plt.ylabel(r\"$|m|L^{\\beta/\\nu}$\",fontsize=18,fontname='Times New Roman')\n",
        "plt.xlim(-10,10)\n",
        "plt.title(\"Data collapse\")"
      ],
      "metadata": {
        "id": "YvcFQ7nAjUL_",
        "colab": {
          "base_uri": "https://localhost:8080/",
          "height": 326
        },
        "outputId": "d32576fc-eabd-4e3b-de9f-42033e2e83d9"
      },
      "id": "YvcFQ7nAjUL_",
      "execution_count": 12,
      "outputs": [
        {
          "output_type": "execute_result",
          "data": {
            "text/plain": [
              "Text(0.5, 1.0, 'Data collapse')"
            ]
          },
          "metadata": {},
          "execution_count": 12
        },
        {
          "output_type": "display_data",
          "data": {
            "text/plain": [
              "<Figure size 432x288 with 1 Axes>"
            ],
            "image/png": "[encoded data removed]"
          },
          "metadata": {
            "needs_background": "light"
          }
        }
      ]
    },
    {
      "cell_type": "code",
      "execution_count": null,
      "id": "5f944853",
      "metadata": {
        "id": "5f944853"
      },
      "outputs": [],
      "source": []
    }
  ],
  "metadata": {
    "kernelspec": {
      "display_name": "Python 3 (ipykernel)",
      "language": "python",
      "name": "python3"
    },
    "language_info": {
      "codemirror_mode": {
        "name": "ipython",
        "version": 3
      },
      "file_extension": ".py",
      "mimetype": "text/x-python",
      "name": "python",
      "nbconvert_exporter": "python",
      "pygments_lexer": "ipython3",
      "version": "3.9.12"
    },
    "colab": {
      "provenance": []
    }
  },
  "nbformat": 4,
  "nbformat_minor": 5
}